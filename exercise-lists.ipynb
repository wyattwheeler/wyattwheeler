{
 "cells": [
  {
   "cell_type": "markdown",
   "id": "ebbe4bbb",
   "metadata": {
    "papermill": {
     "duration": 0.007713,
     "end_time": "2024-05-26T19:41:35.307913",
     "exception": false,
     "start_time": "2024-05-26T19:41:35.300200",
     "status": "completed"
    },
    "tags": []
   },
   "source": [
    "**This notebook is an exercise in the [Python](https://www.kaggle.com/learn/python) course.  You can reference the tutorial at [this link](https://www.kaggle.com/colinmorris/lists).**\n",
    "\n",
    "---\n"
   ]
  },
  {
   "cell_type": "markdown",
   "id": "390a6748",
   "metadata": {
    "papermill": {
     "duration": 0.006375,
     "end_time": "2024-05-26T19:41:35.321390",
     "exception": false,
     "start_time": "2024-05-26T19:41:35.315015",
     "status": "completed"
    },
    "tags": []
   },
   "source": [
    "Things get more interesting with lists. You'll apply your new knowledge to solve the questions below. Remember to run the following cell first."
   ]
  },
  {
   "cell_type": "code",
   "execution_count": 1,
   "id": "c2b996b6",
   "metadata": {
    "execution": {
     "iopub.execute_input": "2024-05-26T19:41:35.337830Z",
     "iopub.status.busy": "2024-05-26T19:41:35.337166Z",
     "iopub.status.idle": "2024-05-26T19:41:36.368382Z",
     "shell.execute_reply": "2024-05-26T19:41:36.367146Z"
    },
    "papermill": {
     "duration": 1.042485,
     "end_time": "2024-05-26T19:41:36.371034",
     "exception": false,
     "start_time": "2024-05-26T19:41:35.328549",
     "status": "completed"
    },
    "tags": []
   },
   "outputs": [
    {
     "name": "stdout",
     "output_type": "stream",
     "text": [
      "Setup complete.\n"
     ]
    }
   ],
   "source": [
    "from learntools.core import binder; binder.bind(globals())\n",
    "from learntools.python.ex4 import *\n",
    "print('Setup complete.')"
   ]
  },
  {
   "cell_type": "markdown",
   "id": "963dbf64",
   "metadata": {
    "papermill": {
     "duration": 0.006665,
     "end_time": "2024-05-26T19:41:36.384682",
     "exception": false,
     "start_time": "2024-05-26T19:41:36.378017",
     "status": "completed"
    },
    "tags": []
   },
   "source": [
    "# 1.\n",
    "\n",
    "Complete the function below according to its docstring."
   ]
  },
  {
   "cell_type": "code",
   "execution_count": 2,
   "id": "b3bc13c4",
   "metadata": {
    "execution": {
     "iopub.execute_input": "2024-05-26T19:41:36.400958Z",
     "iopub.status.busy": "2024-05-26T19:41:36.399905Z",
     "iopub.status.idle": "2024-05-26T19:41:36.412305Z",
     "shell.execute_reply": "2024-05-26T19:41:36.411108Z"
    },
    "papermill": {
     "duration": 0.023416,
     "end_time": "2024-05-26T19:41:36.415098",
     "exception": false,
     "start_time": "2024-05-26T19:41:36.391682",
     "status": "completed"
    },
    "tags": []
   },
   "outputs": [
    {
     "data": {
      "application/javascript": [
       "parent.postMessage({\"jupyterEvent\": \"custom.exercise_interaction\", \"data\": {\"outcomeType\": 1, \"valueTowardsCompletion\": 0.2, \"interactionType\": 1, \"questionType\": 2, \"questionId\": \"1_SelectSecondItem\", \"learnToolsVersion\": \"0.3.4\", \"failureMessage\": \"\", \"exceptionClass\": \"\", \"trace\": \"\"}}, \"*\")"
      ],
      "text/plain": [
       "<IPython.core.display.Javascript object>"
      ]
     },
     "metadata": {},
     "output_type": "display_data"
    },
    {
     "data": {
      "text/markdown": [
       "<span style=\"color:#33cc33\">Correct</span>"
      ],
      "text/plain": [
       "Correct"
      ]
     },
     "metadata": {},
     "output_type": "display_data"
    }
   ],
   "source": [
    "def select_second(L):\n",
    "    \"\"\"Return the second element of the given list. If the list has no second\n",
    "    element, return None.\n",
    "    \"\"\"\n",
    "    if len(L) < 2:\n",
    "        return None\n",
    "    else: \n",
    "        return L[1]\n",
    "\n",
    "# Check your answer\n",
    "q1.check()"
   ]
  },
  {
   "cell_type": "code",
   "execution_count": 3,
   "id": "69dbaae5",
   "metadata": {
    "execution": {
     "iopub.execute_input": "2024-05-26T19:41:36.432347Z",
     "iopub.status.busy": "2024-05-26T19:41:36.431924Z",
     "iopub.status.idle": "2024-05-26T19:41:36.437057Z",
     "shell.execute_reply": "2024-05-26T19:41:36.435607Z"
    },
    "papermill": {
     "duration": 0.017117,
     "end_time": "2024-05-26T19:41:36.439792",
     "exception": false,
     "start_time": "2024-05-26T19:41:36.422675",
     "status": "completed"
    },
    "tags": []
   },
   "outputs": [],
   "source": [
    "#q1.hint()\n",
    "#q1.solution()"
   ]
  },
  {
   "cell_type": "markdown",
   "id": "423ade79",
   "metadata": {
    "papermill": {
     "duration": 0.007073,
     "end_time": "2024-05-26T19:41:36.454216",
     "exception": false,
     "start_time": "2024-05-26T19:41:36.447143",
     "status": "completed"
    },
    "tags": []
   },
   "source": [
    "# 2.\n",
    "\n",
    "You are analyzing sports teams.  Members of each team are stored in a list. The Coach is the first name in the list, the captain is the second name in the list, and other players are listed after that. \n",
    "These lists are stored in another list, which starts with the best team and proceeds through the list to the worst team last.  Complete the function below to select the **captain** of the worst team."
   ]
  },
  {
   "cell_type": "code",
   "execution_count": 4,
   "id": "3d5966b2",
   "metadata": {
    "execution": {
     "iopub.execute_input": "2024-05-26T19:41:36.470831Z",
     "iopub.status.busy": "2024-05-26T19:41:36.470437Z",
     "iopub.status.idle": "2024-05-26T19:41:36.477110Z",
     "shell.execute_reply": "2024-05-26T19:41:36.475483Z"
    },
    "papermill": {
     "duration": 0.017863,
     "end_time": "2024-05-26T19:41:36.479534",
     "exception": false,
     "start_time": "2024-05-26T19:41:36.461671",
     "status": "completed"
    },
    "tags": []
   },
   "outputs": [
    {
     "name": "stdout",
     "output_type": "stream",
     "text": [
      "chris\n"
     ]
    }
   ],
   "source": [
    "spam = [\"test\",\"glasses\",\"apple\"], [\"cup\",\"coffee\",\"computer\"], [\"junk\",\"email\",\"chris\"]\n",
    "print(spam [-1] [-1])"
   ]
  },
  {
   "cell_type": "code",
   "execution_count": 5,
   "id": "dc7bdd67",
   "metadata": {
    "execution": {
     "iopub.execute_input": "2024-05-26T19:41:36.496280Z",
     "iopub.status.busy": "2024-05-26T19:41:36.495868Z",
     "iopub.status.idle": "2024-05-26T19:41:36.506792Z",
     "shell.execute_reply": "2024-05-26T19:41:36.505507Z"
    },
    "papermill": {
     "duration": 0.022244,
     "end_time": "2024-05-26T19:41:36.509159",
     "exception": false,
     "start_time": "2024-05-26T19:41:36.486915",
     "status": "completed"
    },
    "tags": []
   },
   "outputs": [
    {
     "data": {
      "application/javascript": [
       "parent.postMessage({\"jupyterEvent\": \"custom.exercise_interaction\", \"data\": {\"outcomeType\": 1, \"valueTowardsCompletion\": 0.2, \"interactionType\": 1, \"questionType\": 2, \"questionId\": \"2_LosingTeamCaptain\", \"learnToolsVersion\": \"0.3.4\", \"failureMessage\": \"\", \"exceptionClass\": \"\", \"trace\": \"\"}}, \"*\")"
      ],
      "text/plain": [
       "<IPython.core.display.Javascript object>"
      ]
     },
     "metadata": {},
     "output_type": "display_data"
    },
    {
     "data": {
      "text/markdown": [
       "<span style=\"color:#33cc33\">Correct</span>"
      ],
      "text/plain": [
       "Correct"
      ]
     },
     "metadata": {},
     "output_type": "display_data"
    }
   ],
   "source": [
    "def losing_team_captain(teams):\n",
    "    \"\"\"Given a list of teams, where each team is a list of names, return the 2nd player (captain)\n",
    "    from the last listed team\n",
    "    \"\"\"\n",
    "    return teams[-1] [1]\n",
    "\n",
    "# Check your answer\n",
    "q2.check()"
   ]
  },
  {
   "cell_type": "code",
   "execution_count": 6,
   "id": "c7f81367",
   "metadata": {
    "execution": {
     "iopub.execute_input": "2024-05-26T19:41:36.526426Z",
     "iopub.status.busy": "2024-05-26T19:41:36.526019Z",
     "iopub.status.idle": "2024-05-26T19:41:36.530285Z",
     "shell.execute_reply": "2024-05-26T19:41:36.529204Z"
    },
    "papermill": {
     "duration": 0.016021,
     "end_time": "2024-05-26T19:41:36.532781",
     "exception": false,
     "start_time": "2024-05-26T19:41:36.516760",
     "status": "completed"
    },
    "tags": []
   },
   "outputs": [],
   "source": [
    "#q2.hint()\n",
    "#q2.solution()"
   ]
  },
  {
   "cell_type": "markdown",
   "id": "87b18715",
   "metadata": {
    "papermill": {
     "duration": 0.007176,
     "end_time": "2024-05-26T19:41:36.548716",
     "exception": false,
     "start_time": "2024-05-26T19:41:36.541540",
     "status": "completed"
    },
    "tags": []
   },
   "source": [
    "# 3.\n",
    "\n",
    "The next iteration of Mario Kart will feature an extra-infuriating new item, the *Purple Shell*. When used, it warps the last place racer into first place and the first place racer into last place. Complete the function below to implement the Purple Shell's effect."
   ]
  },
  {
   "cell_type": "code",
   "execution_count": 7,
   "id": "57a2769c",
   "metadata": {
    "execution": {
     "iopub.execute_input": "2024-05-26T19:41:36.565600Z",
     "iopub.status.busy": "2024-05-26T19:41:36.565218Z",
     "iopub.status.idle": "2024-05-26T19:41:36.575265Z",
     "shell.execute_reply": "2024-05-26T19:41:36.574399Z"
    },
    "papermill": {
     "duration": 0.02331,
     "end_time": "2024-05-26T19:41:36.579518",
     "exception": false,
     "start_time": "2024-05-26T19:41:36.556208",
     "status": "completed"
    },
    "tags": []
   },
   "outputs": [
    {
     "name": "stdout",
     "output_type": "stream",
     "text": [
      "['L', 'M']\n",
      "['J', 'L', 'M']\n",
      "[5, 2, 3, 4, 1]\n"
     ]
    },
    {
     "data": {
      "application/javascript": [
       "parent.postMessage({\"jupyterEvent\": \"custom.exercise_interaction\", \"data\": {\"outcomeType\": 1, \"valueTowardsCompletion\": 0.2, \"interactionType\": 1, \"questionType\": 2, \"questionId\": \"3_PurpleShell\", \"learnToolsVersion\": \"0.3.4\", \"failureMessage\": \"\", \"exceptionClass\": \"\", \"trace\": \"\"}}, \"*\")"
      ],
      "text/plain": [
       "<IPython.core.display.Javascript object>"
      ]
     },
     "metadata": {},
     "output_type": "display_data"
    },
    {
     "data": {
      "text/markdown": [
       "<span style=\"color:#33cc33\">Correct</span>"
      ],
      "text/plain": [
       "Correct"
      ]
     },
     "metadata": {},
     "output_type": "display_data"
    }
   ],
   "source": [
    "def purple_shell(racers):\n",
    "    \"\"\"Given a list of racers, set the first place racer (at the front of the list) to last\n",
    "    place and vice versa.\n",
    "    \n",
    "    >>> r = [\"Mario\", \"Bowser\", \"Luigi\"]\n",
    "    >>> purple_shell(r)\n",
    "    >>> r\n",
    "    [\"Luigi\", \"Bowser\", \"Mario\"]\n",
    "    \"\"\"\n",
    "    temp = racers[0]\n",
    "    racers[0] = racers[-1]\n",
    "    racers[-1] = temp\n",
    "    \n",
    "    print(racers)\n",
    "\n",
    "# Check your answer\n",
    "q3.check()"
   ]
  },
  {
   "cell_type": "code",
   "execution_count": 8,
   "id": "ff17ed12",
   "metadata": {
    "execution": {
     "iopub.execute_input": "2024-05-26T19:41:36.598123Z",
     "iopub.status.busy": "2024-05-26T19:41:36.597530Z",
     "iopub.status.idle": "2024-05-26T19:41:36.601884Z",
     "shell.execute_reply": "2024-05-26T19:41:36.601070Z"
    },
    "papermill": {
     "duration": 0.016163,
     "end_time": "2024-05-26T19:41:36.604043",
     "exception": false,
     "start_time": "2024-05-26T19:41:36.587880",
     "status": "completed"
    },
    "tags": []
   },
   "outputs": [],
   "source": [
    "#q3.hint()\n",
    "#q3.solution()"
   ]
  },
  {
   "cell_type": "markdown",
   "id": "ea25267c",
   "metadata": {
    "papermill": {
     "duration": 0.007921,
     "end_time": "2024-05-26T19:41:36.620082",
     "exception": false,
     "start_time": "2024-05-26T19:41:36.612161",
     "status": "completed"
    },
    "tags": []
   },
   "source": [
    "# 4.\n",
    "\n",
    "What are the lengths of the following lists? Fill in the variable `lengths` with your predictions. (Try to make a prediction for each list *without* just calling `len()` on it.)"
   ]
  },
  {
   "cell_type": "code",
   "execution_count": 9,
   "id": "95c69ef0",
   "metadata": {
    "execution": {
     "iopub.execute_input": "2024-05-26T19:41:36.638155Z",
     "iopub.status.busy": "2024-05-26T19:41:36.637752Z",
     "iopub.status.idle": "2024-05-26T19:41:36.648904Z",
     "shell.execute_reply": "2024-05-26T19:41:36.647697Z"
    },
    "papermill": {
     "duration": 0.023043,
     "end_time": "2024-05-26T19:41:36.651281",
     "exception": false,
     "start_time": "2024-05-26T19:41:36.628238",
     "status": "completed"
    },
    "tags": []
   },
   "outputs": [
    {
     "data": {
      "application/javascript": [
       "parent.postMessage({\"jupyterEvent\": \"custom.exercise_interaction\", \"data\": {\"outcomeType\": 4, \"interactionType\": 1, \"questionType\": 1, \"questionId\": \"4_UnderstandLen\", \"learnToolsVersion\": \"0.3.4\", \"valueTowardsCompletion\": 0.0, \"failureMessage\": \"\", \"exceptionClass\": \"\", \"trace\": \"\"}}, \"*\")"
      ],
      "text/plain": [
       "<IPython.core.display.Javascript object>"
      ]
     },
     "metadata": {},
     "output_type": "display_data"
    },
    {
     "data": {
      "text/markdown": [
       "<span style=\"color:#ccaa33\">Check:</span> When you've updated the starter code, `check()` will tell you whether your code is correct. You need to update the code that creates variable `lengths`"
      ],
      "text/plain": [
       "Check: When you've updated the starter code, `check()` will tell you whether your code is correct. You need to update the code that creates variable `lengths`"
      ]
     },
     "metadata": {},
     "output_type": "display_data"
    }
   ],
   "source": [
    "a = [1, 2, 3]\n",
    "b = [1, [2, 3]]\n",
    "c = []\n",
    "d = [1, 2, 3][1:]\n",
    "\n",
    "# Put your predictions in the list below. Lengths should contain 4 numbers, the\n",
    "# first being the length of a, the second being the length of b and so on.\n",
    "lengths = []\n",
    "\n",
    "# Check your answer\n",
    "q4.check()"
   ]
  },
  {
   "cell_type": "code",
   "execution_count": 10,
   "id": "ee787344",
   "metadata": {
    "collapsed": true,
    "execution": {
     "iopub.execute_input": "2024-05-26T19:41:36.669996Z",
     "iopub.status.busy": "2024-05-26T19:41:36.669561Z",
     "iopub.status.idle": "2024-05-26T19:41:36.675784Z",
     "shell.execute_reply": "2024-05-26T19:41:36.674911Z"
    },
    "jupyter": {
     "outputs_hidden": true
    },
    "papermill": {
     "duration": 0.018663,
     "end_time": "2024-05-26T19:41:36.678431",
     "exception": false,
     "start_time": "2024-05-26T19:41:36.659768",
     "status": "completed"
    },
    "tags": []
   },
   "outputs": [],
   "source": [
    "# line below provides some explanation\n",
    "#q4.solution()"
   ]
  },
  {
   "cell_type": "markdown",
   "id": "0e26a56c",
   "metadata": {
    "papermill": {
     "duration": 0.0083,
     "end_time": "2024-05-26T19:41:36.695630",
     "exception": false,
     "start_time": "2024-05-26T19:41:36.687330",
     "status": "completed"
    },
    "tags": []
   },
   "source": [
    "# 5. <span title=\"A bit spicy\" style=\"color: darkgreen \">🌶️</span>\n",
    "\n",
    "We're using lists to record people who attended our party and what order they arrived in. For example, the following list represents a party with 7 guests, in which Adela showed up first and Ford was the last to arrive:\n",
    "\n",
    "    party_attendees = ['Adela', 'Fleda', 'Owen', 'May', 'Mona', 'Gilbert', 'Ford']\n",
    "\n",
    "A guest is considered 'fashionably late' if they arrived after at least half of the party's guests. However, they must not be the very last guest (that's taking it too far). In the above example, Mona and Gilbert are the only guests who were fashionably late.\n",
    "\n",
    "Complete the function below which takes a list of party attendees as well as a person, and tells us whether that person is fashionably late."
   ]
  },
  {
   "cell_type": "code",
   "execution_count": 11,
   "id": "4e211341",
   "metadata": {
    "execution": {
     "iopub.execute_input": "2024-05-26T19:41:36.714900Z",
     "iopub.status.busy": "2024-05-26T19:41:36.714495Z",
     "iopub.status.idle": "2024-05-26T19:41:36.725176Z",
     "shell.execute_reply": "2024-05-26T19:41:36.723968Z"
    },
    "papermill": {
     "duration": 0.02399,
     "end_time": "2024-05-26T19:41:36.728308",
     "exception": false,
     "start_time": "2024-05-26T19:41:36.704318",
     "status": "completed"
    },
    "tags": []
   },
   "outputs": [
    {
     "data": {
      "application/javascript": [
       "parent.postMessage({\"jupyterEvent\": \"custom.exercise_interaction\", \"data\": {\"outcomeType\": 1, \"valueTowardsCompletion\": 0.2, \"interactionType\": 1, \"questionType\": 2, \"questionId\": \"5_FashionablyLate\", \"learnToolsVersion\": \"0.3.4\", \"failureMessage\": \"\", \"exceptionClass\": \"\", \"trace\": \"\"}}, \"*\")"
      ],
      "text/plain": [
       "<IPython.core.display.Javascript object>"
      ]
     },
     "metadata": {},
     "output_type": "display_data"
    },
    {
     "data": {
      "text/markdown": [
       "<span style=\"color:#33cc33\">Correct</span>"
      ],
      "text/plain": [
       "Correct"
      ]
     },
     "metadata": {},
     "output_type": "display_data"
    }
   ],
   "source": [
    "def fashionably_late(arrivals, name):\n",
    "    \"\"\"Given an ordered list of arrivals to the party and a name, return whether the guest with that\n",
    "    name was fashionably late.\n",
    "    \"\"\"\n",
    "    half_guest = round(len(arrivals)/2)\n",
    "    if name in arrivals[half_guest:-1]:\n",
    "        return True\n",
    "    else:\n",
    "        return False\n",
    "\n",
    "# Check your answer\n",
    "q5.check()"
   ]
  },
  {
   "cell_type": "code",
   "execution_count": 12,
   "id": "c485114c",
   "metadata": {
    "collapsed": true,
    "execution": {
     "iopub.execute_input": "2024-05-26T19:41:36.748046Z",
     "iopub.status.busy": "2024-05-26T19:41:36.747623Z",
     "iopub.status.idle": "2024-05-26T19:41:36.752325Z",
     "shell.execute_reply": "2024-05-26T19:41:36.750984Z"
    },
    "jupyter": {
     "outputs_hidden": true
    },
    "papermill": {
     "duration": 0.017412,
     "end_time": "2024-05-26T19:41:36.754656",
     "exception": false,
     "start_time": "2024-05-26T19:41:36.737244",
     "status": "completed"
    },
    "tags": []
   },
   "outputs": [],
   "source": [
    "#q5.hint()\n",
    "#q5.solution()"
   ]
  },
  {
   "cell_type": "markdown",
   "id": "3ce93cb2",
   "metadata": {
    "papermill": {
     "duration": 0.009038,
     "end_time": "2024-05-26T19:41:36.772788",
     "exception": false,
     "start_time": "2024-05-26T19:41:36.763750",
     "status": "completed"
    },
    "tags": []
   },
   "source": [
    "# Keep Going\n",
    "\n",
    "That's it for lists and tuples! Now you have the baseline knowledge to **[learn about loops](https://www.kaggle.com/colinmorris/loops-and-list-comprehensions)**, which is where lists and tuples get really interesting. "
   ]
  },
  {
   "cell_type": "markdown",
   "id": "834346d2",
   "metadata": {
    "papermill": {
     "duration": 0.008723,
     "end_time": "2024-05-26T19:41:36.790919",
     "exception": false,
     "start_time": "2024-05-26T19:41:36.782196",
     "status": "completed"
    },
    "tags": []
   },
   "source": [
    "---\n",
    "\n",
    "\n",
    "\n",
    "\n",
    "*Have questions or comments? Visit the [course discussion forum](https://www.kaggle.com/learn/python/discussion) to chat with other learners.*"
   ]
  }
 ],
 "metadata": {
  "kaggle": {
   "accelerator": "none",
   "dataSources": [],
   "isGpuEnabled": false,
   "isInternetEnabled": false,
   "language": "python",
   "sourceType": "notebook"
  },
  "kernelspec": {
   "display_name": "Python 3",
   "language": "python",
   "name": "python3"
  },
  "language_info": {
   "codemirror_mode": {
    "name": "ipython",
    "version": 3
   },
   "file_extension": ".py",
   "mimetype": "text/x-python",
   "name": "python",
   "nbconvert_exporter": "python",
   "pygments_lexer": "ipython3",
   "version": "3.10.13"
  },
  "learntools_metadata": {
   "lesson_index": 3,
   "type": "exercise"
  },
  "papermill": {
   "default_parameters": {},
   "duration": 5.215748,
   "end_time": "2024-05-26T19:41:37.321045",
   "environment_variables": {},
   "exception": null,
   "input_path": "__notebook__.ipynb",
   "output_path": "__notebook__.ipynb",
   "parameters": {},
   "start_time": "2024-05-26T19:41:32.105297",
   "version": "2.5.0"
  }
 },
 "nbformat": 4,
 "nbformat_minor": 5
}
