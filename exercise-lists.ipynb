{
 "cells": [
  {
   "cell_type": "markdown",
   "id": "17a238da",
   "metadata": {
    "papermill": {
     "duration": 0.007505,
     "end_time": "2024-05-26T19:48:46.587084",
     "exception": false,
     "start_time": "2024-05-26T19:48:46.579579",
     "status": "completed"
    },
    "tags": []
   },
   "source": [
    "**This notebook is an exercise in the [Python](https://www.kaggle.com/learn/python) course.  You can reference the tutorial at [this link](https://www.kaggle.com/colinmorris/lists).**\n",
    "\n",
    "---\n"
   ]
  },
  {
   "cell_type": "markdown",
   "id": "bcb928d6",
   "metadata": {
    "papermill": {
     "duration": 0.007062,
     "end_time": "2024-05-26T19:48:46.601532",
     "exception": false,
     "start_time": "2024-05-26T19:48:46.594470",
     "status": "completed"
    },
    "tags": []
   },
   "source": [
    "Things get more interesting with lists. You'll apply your new knowledge to solve the questions below. Remember to run the following cell first."
   ]
  },
  {
   "cell_type": "code",
   "execution_count": 1,
   "id": "2e58fbb5",
   "metadata": {
    "execution": {
     "iopub.execute_input": "2024-05-26T19:48:46.617798Z",
     "iopub.status.busy": "2024-05-26T19:48:46.616719Z",
     "iopub.status.idle": "2024-05-26T19:48:47.674845Z",
     "shell.execute_reply": "2024-05-26T19:48:47.673827Z"
    },
    "papermill": {
     "duration": 1.069079,
     "end_time": "2024-05-26T19:48:47.677439",
     "exception": false,
     "start_time": "2024-05-26T19:48:46.608360",
     "status": "completed"
    },
    "tags": []
   },
   "outputs": [
    {
     "name": "stdout",
     "output_type": "stream",
     "text": [
      "Setup complete.\n"
     ]
    }
   ],
   "source": [
    "from learntools.core import binder; binder.bind(globals())\n",
    "from learntools.python.ex4 import *\n",
    "print('Setup complete.')"
   ]
  },
  {
   "cell_type": "markdown",
   "id": "80bf2a94",
   "metadata": {
    "papermill": {
     "duration": 0.007174,
     "end_time": "2024-05-26T19:48:47.691533",
     "exception": false,
     "start_time": "2024-05-26T19:48:47.684359",
     "status": "completed"
    },
    "tags": []
   },
   "source": [
    "# 1.\n",
    "\n",
    "Complete the function below according to its docstring."
   ]
  },
  {
   "cell_type": "code",
   "execution_count": 2,
   "id": "466919f9",
   "metadata": {
    "execution": {
     "iopub.execute_input": "2024-05-26T19:48:47.709560Z",
     "iopub.status.busy": "2024-05-26T19:48:47.708722Z",
     "iopub.status.idle": "2024-05-26T19:48:47.719376Z",
     "shell.execute_reply": "2024-05-26T19:48:47.718542Z"
    },
    "papermill": {
     "duration": 0.021573,
     "end_time": "2024-05-26T19:48:47.721654",
     "exception": false,
     "start_time": "2024-05-26T19:48:47.700081",
     "status": "completed"
    },
    "tags": []
   },
   "outputs": [
    {
     "data": {
      "application/javascript": [
       "parent.postMessage({\"jupyterEvent\": \"custom.exercise_interaction\", \"data\": {\"outcomeType\": 1, \"valueTowardsCompletion\": 0.2, \"interactionType\": 1, \"questionType\": 2, \"questionId\": \"1_SelectSecondItem\", \"learnToolsVersion\": \"0.3.4\", \"failureMessage\": \"\", \"exceptionClass\": \"\", \"trace\": \"\"}}, \"*\")"
      ],
      "text/plain": [
       "<IPython.core.display.Javascript object>"
      ]
     },
     "metadata": {},
     "output_type": "display_data"
    },
    {
     "data": {
      "text/markdown": [
       "<span style=\"color:#33cc33\">Correct</span>"
      ],
      "text/plain": [
       "Correct"
      ]
     },
     "metadata": {},
     "output_type": "display_data"
    }
   ],
   "source": [
    "def select_second(L):\n",
    "    \"\"\"Return the second element of the given list. If the list has no second\n",
    "    element, return None.\n",
    "    \"\"\"\n",
    "    if len(L) < 2:\n",
    "        return None\n",
    "    else: \n",
    "        return L[1]\n",
    "\n",
    "# Check your answer\n",
    "q1.check()"
   ]
  },
  {
   "cell_type": "code",
   "execution_count": 3,
   "id": "46c6a067",
   "metadata": {
    "execution": {
     "iopub.execute_input": "2024-05-26T19:48:47.738537Z",
     "iopub.status.busy": "2024-05-26T19:48:47.737803Z",
     "iopub.status.idle": "2024-05-26T19:48:47.741697Z",
     "shell.execute_reply": "2024-05-26T19:48:47.740804Z"
    },
    "papermill": {
     "duration": 0.015106,
     "end_time": "2024-05-26T19:48:47.743981",
     "exception": false,
     "start_time": "2024-05-26T19:48:47.728875",
     "status": "completed"
    },
    "tags": []
   },
   "outputs": [],
   "source": [
    "#q1.hint()\n",
    "#q1.solution()"
   ]
  },
  {
   "cell_type": "markdown",
   "id": "2b420703",
   "metadata": {
    "papermill": {
     "duration": 0.007639,
     "end_time": "2024-05-26T19:48:47.758907",
     "exception": false,
     "start_time": "2024-05-26T19:48:47.751268",
     "status": "completed"
    },
    "tags": []
   },
   "source": [
    "# 2.\n",
    "\n",
    "You are analyzing sports teams.  Members of each team are stored in a list. The Coach is the first name in the list, the captain is the second name in the list, and other players are listed after that. \n",
    "These lists are stored in another list, which starts with the best team and proceeds through the list to the worst team last.  Complete the function below to select the **captain** of the worst team."
   ]
  },
  {
   "cell_type": "code",
   "execution_count": 4,
   "id": "72de29a9",
   "metadata": {
    "execution": {
     "iopub.execute_input": "2024-05-26T19:48:47.775719Z",
     "iopub.status.busy": "2024-05-26T19:48:47.774993Z",
     "iopub.status.idle": "2024-05-26T19:48:47.781182Z",
     "shell.execute_reply": "2024-05-26T19:48:47.779982Z"
    },
    "papermill": {
     "duration": 0.017462,
     "end_time": "2024-05-26T19:48:47.783657",
     "exception": false,
     "start_time": "2024-05-26T19:48:47.766195",
     "status": "completed"
    },
    "tags": []
   },
   "outputs": [
    {
     "name": "stdout",
     "output_type": "stream",
     "text": [
      "chris\n"
     ]
    }
   ],
   "source": [
    "spam = [\"test\",\"glasses\",\"apple\"], [\"cup\",\"coffee\",\"computer\"], [\"junk\",\"email\",\"chris\"]\n",
    "print(spam [-1] [-1])"
   ]
  },
  {
   "cell_type": "code",
   "execution_count": 5,
   "id": "3efd5ebd",
   "metadata": {
    "execution": {
     "iopub.execute_input": "2024-05-26T19:48:47.800584Z",
     "iopub.status.busy": "2024-05-26T19:48:47.800171Z",
     "iopub.status.idle": "2024-05-26T19:48:47.810911Z",
     "shell.execute_reply": "2024-05-26T19:48:47.809459Z"
    },
    "papermill": {
     "duration": 0.022459,
     "end_time": "2024-05-26T19:48:47.813424",
     "exception": false,
     "start_time": "2024-05-26T19:48:47.790965",
     "status": "completed"
    },
    "tags": []
   },
   "outputs": [
    {
     "data": {
      "application/javascript": [
       "parent.postMessage({\"jupyterEvent\": \"custom.exercise_interaction\", \"data\": {\"outcomeType\": 1, \"valueTowardsCompletion\": 0.2, \"interactionType\": 1, \"questionType\": 2, \"questionId\": \"2_LosingTeamCaptain\", \"learnToolsVersion\": \"0.3.4\", \"failureMessage\": \"\", \"exceptionClass\": \"\", \"trace\": \"\"}}, \"*\")"
      ],
      "text/plain": [
       "<IPython.core.display.Javascript object>"
      ]
     },
     "metadata": {},
     "output_type": "display_data"
    },
    {
     "data": {
      "text/markdown": [
       "<span style=\"color:#33cc33\">Correct</span>"
      ],
      "text/plain": [
       "Correct"
      ]
     },
     "metadata": {},
     "output_type": "display_data"
    }
   ],
   "source": [
    "def losing_team_captain(teams):\n",
    "    \"\"\"Given a list of teams, where each team is a list of names, return the 2nd player (captain)\n",
    "    from the last listed team\n",
    "    \"\"\"\n",
    "    return teams[-1] [1]\n",
    "\n",
    "# Check your answer\n",
    "q2.check()"
   ]
  },
  {
   "cell_type": "code",
   "execution_count": 6,
   "id": "895f1a0d",
   "metadata": {
    "execution": {
     "iopub.execute_input": "2024-05-26T19:48:47.830449Z",
     "iopub.status.busy": "2024-05-26T19:48:47.830030Z",
     "iopub.status.idle": "2024-05-26T19:48:47.834508Z",
     "shell.execute_reply": "2024-05-26T19:48:47.833462Z"
    },
    "papermill": {
     "duration": 0.015722,
     "end_time": "2024-05-26T19:48:47.836761",
     "exception": false,
     "start_time": "2024-05-26T19:48:47.821039",
     "status": "completed"
    },
    "tags": []
   },
   "outputs": [],
   "source": [
    "#q2.hint()\n",
    "#q2.solution()"
   ]
  },
  {
   "cell_type": "markdown",
   "id": "9fc19c3d",
   "metadata": {
    "papermill": {
     "duration": 0.007277,
     "end_time": "2024-05-26T19:48:47.852831",
     "exception": false,
     "start_time": "2024-05-26T19:48:47.845554",
     "status": "completed"
    },
    "tags": []
   },
   "source": [
    "# 3.\n",
    "\n",
    "The next iteration of Mario Kart will feature an extra-infuriating new item, the *Purple Shell*. When used, it warps the last place racer into first place and the first place racer into last place. Complete the function below to implement the Purple Shell's effect."
   ]
  },
  {
   "cell_type": "code",
   "execution_count": 7,
   "id": "6b7fac81",
   "metadata": {
    "execution": {
     "iopub.execute_input": "2024-05-26T19:48:47.869871Z",
     "iopub.status.busy": "2024-05-26T19:48:47.869479Z",
     "iopub.status.idle": "2024-05-26T19:48:47.880286Z",
     "shell.execute_reply": "2024-05-26T19:48:47.879156Z"
    },
    "papermill": {
     "duration": 0.022778,
     "end_time": "2024-05-26T19:48:47.883219",
     "exception": false,
     "start_time": "2024-05-26T19:48:47.860441",
     "status": "completed"
    },
    "tags": []
   },
   "outputs": [
    {
     "name": "stdout",
     "output_type": "stream",
     "text": [
      "['L', 'M']\n",
      "['J', 'L', 'M']\n",
      "[5, 2, 3, 4, 1]\n"
     ]
    },
    {
     "data": {
      "application/javascript": [
       "parent.postMessage({\"jupyterEvent\": \"custom.exercise_interaction\", \"data\": {\"outcomeType\": 1, \"valueTowardsCompletion\": 0.2, \"interactionType\": 1, \"questionType\": 2, \"questionId\": \"3_PurpleShell\", \"learnToolsVersion\": \"0.3.4\", \"failureMessage\": \"\", \"exceptionClass\": \"\", \"trace\": \"\"}}, \"*\")"
      ],
      "text/plain": [
       "<IPython.core.display.Javascript object>"
      ]
     },
     "metadata": {},
     "output_type": "display_data"
    },
    {
     "data": {
      "text/markdown": [
       "<span style=\"color:#33cc33\">Correct</span>"
      ],
      "text/plain": [
       "Correct"
      ]
     },
     "metadata": {},
     "output_type": "display_data"
    }
   ],
   "source": [
    "def purple_shell(racers):\n",
    "    \"\"\"Given a list of racers, set the first place racer (at the front of the list) to last\n",
    "    place and vice versa.\n",
    "    \n",
    "    >>> r = [\"Mario\", \"Bowser\", \"Luigi\"]\n",
    "    >>> purple_shell(r)\n",
    "    >>> r\n",
    "    [\"Luigi\", \"Bowser\", \"Mario\"]\n",
    "    \"\"\"\n",
    "    temp = racers[0]\n",
    "    racers[0] = racers[-1]\n",
    "    racers[-1] = temp\n",
    "    \n",
    "    print(racers)\n",
    "\n",
    "# Check your answer\n",
    "q3.check()"
   ]
  },
  {
   "cell_type": "code",
   "execution_count": 8,
   "id": "3c41bf36",
   "metadata": {
    "execution": {
     "iopub.execute_input": "2024-05-26T19:48:47.901312Z",
     "iopub.status.busy": "2024-05-26T19:48:47.900909Z",
     "iopub.status.idle": "2024-05-26T19:48:47.904598Z",
     "shell.execute_reply": "2024-05-26T19:48:47.903674Z"
    },
    "papermill": {
     "duration": 0.015787,
     "end_time": "2024-05-26T19:48:47.907117",
     "exception": false,
     "start_time": "2024-05-26T19:48:47.891330",
     "status": "completed"
    },
    "tags": []
   },
   "outputs": [],
   "source": [
    "#q3.hint()\n",
    "#q3.solution()"
   ]
  },
  {
   "cell_type": "markdown",
   "id": "c012ff0a",
   "metadata": {
    "papermill": {
     "duration": 0.007746,
     "end_time": "2024-05-26T19:48:47.923048",
     "exception": false,
     "start_time": "2024-05-26T19:48:47.915302",
     "status": "completed"
    },
    "tags": []
   },
   "source": [
    "# 4.\n",
    "\n",
    "What are the lengths of the following lists? Fill in the variable `lengths` with your predictions. (Try to make a prediction for each list *without* just calling `len()` on it.)"
   ]
  },
  {
   "cell_type": "code",
   "execution_count": 9,
   "id": "7fbb6829",
   "metadata": {
    "execution": {
     "iopub.execute_input": "2024-05-26T19:48:47.941106Z",
     "iopub.status.busy": "2024-05-26T19:48:47.940686Z",
     "iopub.status.idle": "2024-05-26T19:48:47.951309Z",
     "shell.execute_reply": "2024-05-26T19:48:47.950188Z"
    },
    "papermill": {
     "duration": 0.022537,
     "end_time": "2024-05-26T19:48:47.953643",
     "exception": false,
     "start_time": "2024-05-26T19:48:47.931106",
     "status": "completed"
    },
    "tags": []
   },
   "outputs": [
    {
     "data": {
      "application/javascript": [
       "parent.postMessage({\"jupyterEvent\": \"custom.exercise_interaction\", \"data\": {\"outcomeType\": 1, \"valueTowardsCompletion\": 0.2, \"interactionType\": 1, \"questionType\": 1, \"questionId\": \"4_UnderstandLen\", \"learnToolsVersion\": \"0.3.4\", \"failureMessage\": \"\", \"exceptionClass\": \"\", \"trace\": \"\"}}, \"*\")"
      ],
      "text/plain": [
       "<IPython.core.display.Javascript object>"
      ]
     },
     "metadata": {},
     "output_type": "display_data"
    },
    {
     "data": {
      "text/markdown": [
       "<span style=\"color:#33cc33\">Correct:</span> \n",
       "\n",
       "\n",
       "- a: There are three items in this list. Nothing tricky yet.\n",
       "- b: The list `[2, 3]` counts as a single item. It has one item before it. So we have 2 items in the list\n",
       "- c: The empty list has 0 items\n",
       "- d: The expression is the same as the list `[2, 3]`, which has length 2."
      ],
      "text/plain": [
       "Correct: \n",
       "\n",
       "\n",
       "- a: There are three items in this list. Nothing tricky yet.\n",
       "- b: The list `[2, 3]` counts as a single item. It has one item before it. So we have 2 items in the list\n",
       "- c: The empty list has 0 items\n",
       "- d: The expression is the same as the list `[2, 3]`, which has length 2."
      ]
     },
     "metadata": {},
     "output_type": "display_data"
    }
   ],
   "source": [
    "a = [1, 2, 3]\n",
    "b = [1, [2, 3]]\n",
    "c = []\n",
    "d = [1, 2, 3][1:]\n",
    "\n",
    "# Put your predictions in the list below. Lengths should contain 4 numbers, the\n",
    "# first being the length of a, the second being the length of b and so on.\n",
    "lengths = [3, 2, 0, 2]\n",
    "\n",
    "# Check your answer\n",
    "q4.check()"
   ]
  },
  {
   "cell_type": "code",
   "execution_count": 10,
   "id": "d3e1f5a8",
   "metadata": {
    "execution": {
     "iopub.execute_input": "2024-05-26T19:48:47.972194Z",
     "iopub.status.busy": "2024-05-26T19:48:47.971781Z",
     "iopub.status.idle": "2024-05-26T19:48:47.980243Z",
     "shell.execute_reply": "2024-05-26T19:48:47.979380Z"
    },
    "papermill": {
     "duration": 0.020676,
     "end_time": "2024-05-26T19:48:47.982776",
     "exception": false,
     "start_time": "2024-05-26T19:48:47.962100",
     "status": "completed"
    },
    "tags": []
   },
   "outputs": [
    {
     "data": {
      "application/javascript": [
       "parent.postMessage({\"jupyterEvent\": \"custom.exercise_interaction\", \"data\": {\"interactionType\": 3, \"questionType\": 1, \"questionId\": \"4_UnderstandLen\", \"learnToolsVersion\": \"0.3.4\", \"valueTowardsCompletion\": 0.0, \"failureMessage\": \"\", \"exceptionClass\": \"\", \"trace\": \"\", \"outcomeType\": 4}}, \"*\")"
      ],
      "text/plain": [
       "<IPython.core.display.Javascript object>"
      ]
     },
     "metadata": {},
     "output_type": "display_data"
    },
    {
     "data": {
      "text/markdown": [
       "<span style=\"color:#33cc99\">Solution:</span> \n",
       "- a: There are three items in this list. Nothing tricky yet.\n",
       "- b: The list `[2, 3]` counts as a single item. It has one item before it. So we have 2 items in the list\n",
       "- c: The empty list has 0 items\n",
       "- d: The expression is the same as the list `[2, 3]`, which has length 2."
      ],
      "text/plain": [
       "Solution: \n",
       "- a: There are three items in this list. Nothing tricky yet.\n",
       "- b: The list `[2, 3]` counts as a single item. It has one item before it. So we have 2 items in the list\n",
       "- c: The empty list has 0 items\n",
       "- d: The expression is the same as the list `[2, 3]`, which has length 2."
      ]
     },
     "metadata": {},
     "output_type": "display_data"
    }
   ],
   "source": [
    "# line below provides some explanation\n",
    "q4.solution()"
   ]
  },
  {
   "cell_type": "markdown",
   "id": "deee3c5d",
   "metadata": {
    "papermill": {
     "duration": 0.008531,
     "end_time": "2024-05-26T19:48:48.000184",
     "exception": false,
     "start_time": "2024-05-26T19:48:47.991653",
     "status": "completed"
    },
    "tags": []
   },
   "source": [
    "# 5. <span title=\"A bit spicy\" style=\"color: darkgreen \">🌶️</span>\n",
    "\n",
    "We're using lists to record people who attended our party and what order they arrived in. For example, the following list represents a party with 7 guests, in which Adela showed up first and Ford was the last to arrive:\n",
    "\n",
    "    party_attendees = ['Adela', 'Fleda', 'Owen', 'May', 'Mona', 'Gilbert', 'Ford']\n",
    "\n",
    "A guest is considered 'fashionably late' if they arrived after at least half of the party's guests. However, they must not be the very last guest (that's taking it too far). In the above example, Mona and Gilbert are the only guests who were fashionably late.\n",
    "\n",
    "Complete the function below which takes a list of party attendees as well as a person, and tells us whether that person is fashionably late."
   ]
  },
  {
   "cell_type": "code",
   "execution_count": 11,
   "id": "064eb896",
   "metadata": {
    "execution": {
     "iopub.execute_input": "2024-05-26T19:48:48.019866Z",
     "iopub.status.busy": "2024-05-26T19:48:48.019477Z",
     "iopub.status.idle": "2024-05-26T19:48:48.030725Z",
     "shell.execute_reply": "2024-05-26T19:48:48.029557Z"
    },
    "papermill": {
     "duration": 0.024104,
     "end_time": "2024-05-26T19:48:48.033233",
     "exception": false,
     "start_time": "2024-05-26T19:48:48.009129",
     "status": "completed"
    },
    "tags": []
   },
   "outputs": [
    {
     "data": {
      "application/javascript": [
       "parent.postMessage({\"jupyterEvent\": \"custom.exercise_interaction\", \"data\": {\"outcomeType\": 1, \"valueTowardsCompletion\": 0.2, \"interactionType\": 1, \"questionType\": 2, \"questionId\": \"5_FashionablyLate\", \"learnToolsVersion\": \"0.3.4\", \"failureMessage\": \"\", \"exceptionClass\": \"\", \"trace\": \"\"}}, \"*\")"
      ],
      "text/plain": [
       "<IPython.core.display.Javascript object>"
      ]
     },
     "metadata": {},
     "output_type": "display_data"
    },
    {
     "data": {
      "text/markdown": [
       "<span style=\"color:#33cc33\">Correct</span>"
      ],
      "text/plain": [
       "Correct"
      ]
     },
     "metadata": {},
     "output_type": "display_data"
    }
   ],
   "source": [
    "def fashionably_late(arrivals, name):\n",
    "    \"\"\"Given an ordered list of arrivals to the party and a name, return whether the guest with that\n",
    "    name was fashionably late.\n",
    "    \"\"\"\n",
    "    half_guest = round(len(arrivals)/2)\n",
    "    if name in arrivals[half_guest:-1]:\n",
    "        return True\n",
    "    else:\n",
    "        return False\n",
    "\n",
    "# Check your answer\n",
    "q5.check()"
   ]
  },
  {
   "cell_type": "code",
   "execution_count": 12,
   "id": "618b65fa",
   "metadata": {
    "collapsed": true,
    "execution": {
     "iopub.execute_input": "2024-05-26T19:48:48.053694Z",
     "iopub.status.busy": "2024-05-26T19:48:48.053256Z",
     "iopub.status.idle": "2024-05-26T19:48:48.057863Z",
     "shell.execute_reply": "2024-05-26T19:48:48.056818Z"
    },
    "jupyter": {
     "outputs_hidden": true
    },
    "papermill": {
     "duration": 0.0176,
     "end_time": "2024-05-26T19:48:48.060364",
     "exception": false,
     "start_time": "2024-05-26T19:48:48.042764",
     "status": "completed"
    },
    "tags": []
   },
   "outputs": [],
   "source": [
    "#q5.hint()\n",
    "#q5.solution()"
   ]
  },
  {
   "cell_type": "markdown",
   "id": "157a27c8",
   "metadata": {
    "papermill": {
     "duration": 0.009414,
     "end_time": "2024-05-26T19:48:48.079254",
     "exception": false,
     "start_time": "2024-05-26T19:48:48.069840",
     "status": "completed"
    },
    "tags": []
   },
   "source": [
    "# Keep Going\n",
    "\n",
    "That's it for lists and tuples! Now you have the baseline knowledge to **[learn about loops](https://www.kaggle.com/colinmorris/loops-and-list-comprehensions)**, which is where lists and tuples get really interesting. "
   ]
  },
  {
   "cell_type": "markdown",
   "id": "059fba3d",
   "metadata": {
    "papermill": {
     "duration": 0.008981,
     "end_time": "2024-05-26T19:48:48.097714",
     "exception": false,
     "start_time": "2024-05-26T19:48:48.088733",
     "status": "completed"
    },
    "tags": []
   },
   "source": [
    "---\n",
    "\n",
    "\n",
    "\n",
    "\n",
    "*Have questions or comments? Visit the [course discussion forum](https://www.kaggle.com/learn/python/discussion) to chat with other learners.*"
   ]
  }
 ],
 "metadata": {
  "kaggle": {
   "accelerator": "none",
   "dataSources": [],
   "isGpuEnabled": false,
   "isInternetEnabled": false,
   "language": "python",
   "sourceType": "notebook"
  },
  "kernelspec": {
   "display_name": "Python 3",
   "language": "python",
   "name": "python3"
  },
  "language_info": {
   "codemirror_mode": {
    "name": "ipython",
    "version": 3
   },
   "file_extension": ".py",
   "mimetype": "text/x-python",
   "name": "python",
   "nbconvert_exporter": "python",
   "pygments_lexer": "ipython3",
   "version": "3.10.13"
  },
  "learntools_metadata": {
   "lesson_index": 3,
   "type": "exercise"
  },
  "papermill": {
   "default_parameters": {},
   "duration": 8.177177,
   "end_time": "2024-05-26T19:48:51.520273",
   "environment_variables": {},
   "exception": null,
   "input_path": "__notebook__.ipynb",
   "output_path": "__notebook__.ipynb",
   "parameters": {},
   "start_time": "2024-05-26T19:48:43.343096",
   "version": "2.5.0"
  }
 },
 "nbformat": 4,
 "nbformat_minor": 5
}
