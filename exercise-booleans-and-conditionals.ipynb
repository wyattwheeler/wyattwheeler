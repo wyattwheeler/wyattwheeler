{
 "cells": [
  {
   "cell_type": "markdown",
   "id": "e1f72bd9",
   "metadata": {
    "papermill": {
     "duration": 0.01381,
     "end_time": "2024-05-25T14:17:04.424359",
     "exception": false,
     "start_time": "2024-05-25T14:17:04.410549",
     "status": "completed"
    },
    "tags": []
   },
   "source": [
    "**This notebook is an exercise in the [Python](https://www.kaggle.com/learn/python) course.  You can reference the tutorial at [this link](https://www.kaggle.com/colinmorris/booleans-and-conditionals).**\n",
    "\n",
    "---\n"
   ]
  },
  {
   "cell_type": "markdown",
   "id": "c84b2941",
   "metadata": {
    "papermill": {
     "duration": 0.012158,
     "end_time": "2024-05-25T14:17:04.449445",
     "exception": false,
     "start_time": "2024-05-25T14:17:04.437287",
     "status": "completed"
    },
    "tags": []
   },
   "source": [
    "In this exercise, you'll put to work what you have learned about booleans and conditionals.\n",
    "\n",
    "To get started, **run the setup code below** before writing your own code (and if you leave this notebook and come back later, don't forget to run the setup code again)."
   ]
  },
  {
   "cell_type": "code",
   "execution_count": 1,
   "id": "f157a485",
   "metadata": {
    "execution": {
     "iopub.execute_input": "2024-05-25T14:17:04.477972Z",
     "iopub.status.busy": "2024-05-25T14:17:04.477229Z",
     "iopub.status.idle": "2024-05-25T14:17:05.542875Z",
     "shell.execute_reply": "2024-05-25T14:17:05.541694Z"
    },
    "papermill": {
     "duration": 1.08275,
     "end_time": "2024-05-25T14:17:05.545946",
     "exception": false,
     "start_time": "2024-05-25T14:17:04.463196",
     "status": "completed"
    },
    "tags": []
   },
   "outputs": [
    {
     "name": "stdout",
     "output_type": "stream",
     "text": [
      "Setup complete.\n"
     ]
    }
   ],
   "source": [
    "from learntools.core import binder; binder.bind(globals())\n",
    "from learntools.python.ex3 import *\n",
    "print('Setup complete.')"
   ]
  },
  {
   "cell_type": "markdown",
   "id": "179d1dc3",
   "metadata": {
    "papermill": {
     "duration": 0.014539,
     "end_time": "2024-05-25T14:17:05.577737",
     "exception": false,
     "start_time": "2024-05-25T14:17:05.563198",
     "status": "completed"
    },
    "tags": []
   },
   "source": [
    "# 1.\n",
    "\n",
    "Many programming languages have [`sign`](https://en.wikipedia.org/wiki/Sign_function) available as a built-in function. Python doesn't, but we can define our own!\n",
    "\n",
    "In the cell below, define a function called `sign` which takes a numerical argument and returns -1 if it's negative, 1 if it's positive, and 0 if it's 0."
   ]
  },
  {
   "cell_type": "code",
   "execution_count": 2,
   "id": "7239fd85",
   "metadata": {
    "execution": {
     "iopub.execute_input": "2024-05-25T14:17:05.604992Z",
     "iopub.status.busy": "2024-05-25T14:17:05.604447Z",
     "iopub.status.idle": "2024-05-25T14:17:05.616685Z",
     "shell.execute_reply": "2024-05-25T14:17:05.615593Z"
    },
    "papermill": {
     "duration": 0.028917,
     "end_time": "2024-05-25T14:17:05.619360",
     "exception": false,
     "start_time": "2024-05-25T14:17:05.590443",
     "status": "completed"
    },
    "tags": []
   },
   "outputs": [
    {
     "data": {
      "application/javascript": [
       "parent.postMessage({\"jupyterEvent\": \"custom.exercise_interaction\", \"data\": {\"outcomeType\": 1, \"valueTowardsCompletion\": 0.2, \"interactionType\": 1, \"questionType\": 2, \"questionId\": \"1_SignFunctionProblem\", \"learnToolsVersion\": \"0.3.4\", \"failureMessage\": \"\", \"exceptionClass\": \"\", \"trace\": \"\"}}, \"*\")"
      ],
      "text/plain": [
       "<IPython.core.display.Javascript object>"
      ]
     },
     "metadata": {},
     "output_type": "display_data"
    },
    {
     "data": {
      "text/markdown": [
       "<span style=\"color:#33cc33\">Correct</span>"
      ],
      "text/plain": [
       "Correct"
      ]
     },
     "metadata": {},
     "output_type": "display_data"
    }
   ],
   "source": [
    "# Your code goes here. Define a function called 'sign'\n",
    "def sign(num):\n",
    "    if num > 0:\n",
    "        value = 1\n",
    "    elif num < 0:\n",
    "        value = -1\n",
    "    else:\n",
    "        value = 0\n",
    "    return value\n",
    "\n",
    "# Check your answer\n",
    "q1.check()"
   ]
  },
  {
   "cell_type": "code",
   "execution_count": 3,
   "id": "49f7c22a",
   "metadata": {
    "execution": {
     "iopub.execute_input": "2024-05-25T14:17:05.647448Z",
     "iopub.status.busy": "2024-05-25T14:17:05.646653Z",
     "iopub.status.idle": "2024-05-25T14:17:05.651674Z",
     "shell.execute_reply": "2024-05-25T14:17:05.650520Z"
    },
    "papermill": {
     "duration": 0.022212,
     "end_time": "2024-05-25T14:17:05.654449",
     "exception": false,
     "start_time": "2024-05-25T14:17:05.632237",
     "status": "completed"
    },
    "tags": []
   },
   "outputs": [],
   "source": [
    "#q1.solution()"
   ]
  },
  {
   "cell_type": "markdown",
   "id": "c58d497e",
   "metadata": {
    "papermill": {
     "duration": 0.013046,
     "end_time": "2024-05-25T14:17:05.681418",
     "exception": false,
     "start_time": "2024-05-25T14:17:05.668372",
     "status": "completed"
    },
    "tags": []
   },
   "source": [
    "# 2.\n",
    "\n",
    "We've decided to add \"logging\" to our `to_smash` function from the previous exercise."
   ]
  },
  {
   "cell_type": "code",
   "execution_count": 4,
   "id": "ef68aeb0",
   "metadata": {
    "execution": {
     "iopub.execute_input": "2024-05-25T14:17:05.709820Z",
     "iopub.status.busy": "2024-05-25T14:17:05.708974Z",
     "iopub.status.idle": "2024-05-25T14:17:05.720164Z",
     "shell.execute_reply": "2024-05-25T14:17:05.717470Z"
    },
    "papermill": {
     "duration": 0.02821,
     "end_time": "2024-05-25T14:17:05.722717",
     "exception": false,
     "start_time": "2024-05-25T14:17:05.694507",
     "status": "completed"
    },
    "tags": []
   },
   "outputs": [
    {
     "name": "stdout",
     "output_type": "stream",
     "text": [
      "Splitting 91 candies\n"
     ]
    },
    {
     "data": {
      "text/plain": [
       "1"
      ]
     },
     "execution_count": 4,
     "metadata": {},
     "output_type": "execute_result"
    }
   ],
   "source": [
    "def to_smash(total_candies):\n",
    "    \"\"\"Return the number of leftover candies that must be smashed after distributing\n",
    "    the given number of candies evenly between 3 friends.\n",
    "    \n",
    "    >>> to_smash(91)\n",
    "    1\n",
    "    \"\"\"\n",
    "    print(\"Splitting\", total_candies, \"candies\")\n",
    "    return total_candies % 3\n",
    "\n",
    "to_smash(91)"
   ]
  },
  {
   "cell_type": "markdown",
   "id": "99f56740",
   "metadata": {
    "papermill": {
     "duration": 0.014137,
     "end_time": "2024-05-25T14:17:05.750115",
     "exception": false,
     "start_time": "2024-05-25T14:17:05.735978",
     "status": "completed"
    },
    "tags": []
   },
   "source": [
    "What happens if we call it with `total_candies = 1`?"
   ]
  },
  {
   "cell_type": "code",
   "execution_count": 5,
   "id": "847f1bb2",
   "metadata": {
    "execution": {
     "iopub.execute_input": "2024-05-25T14:17:05.781438Z",
     "iopub.status.busy": "2024-05-25T14:17:05.780329Z",
     "iopub.status.idle": "2024-05-25T14:17:05.788429Z",
     "shell.execute_reply": "2024-05-25T14:17:05.787590Z"
    },
    "papermill": {
     "duration": 0.024854,
     "end_time": "2024-05-25T14:17:05.790577",
     "exception": false,
     "start_time": "2024-05-25T14:17:05.765723",
     "status": "completed"
    },
    "tags": []
   },
   "outputs": [
    {
     "name": "stdout",
     "output_type": "stream",
     "text": [
      "Splitting 1 candies\n"
     ]
    },
    {
     "data": {
      "text/plain": [
       "1"
      ]
     },
     "execution_count": 5,
     "metadata": {},
     "output_type": "execute_result"
    }
   ],
   "source": [
    "to_smash(1)"
   ]
  },
  {
   "cell_type": "markdown",
   "id": "1d9220b9",
   "metadata": {
    "papermill": {
     "duration": 0.013074,
     "end_time": "2024-05-25T14:17:05.817253",
     "exception": false,
     "start_time": "2024-05-25T14:17:05.804179",
     "status": "completed"
    },
    "tags": []
   },
   "source": [
    "That isn't great grammar!\n",
    "\n",
    "Modify the definition in the cell below to correct the grammar of our print statement. (If there's only one candy, we should use the singular \"candy\" instead of the plural \"candies\")"
   ]
  },
  {
   "cell_type": "code",
   "execution_count": 6,
   "id": "d52a2aa7",
   "metadata": {
    "execution": {
     "iopub.execute_input": "2024-05-25T14:17:05.846852Z",
     "iopub.status.busy": "2024-05-25T14:17:05.845795Z",
     "iopub.status.idle": "2024-05-25T14:17:05.855058Z",
     "shell.execute_reply": "2024-05-25T14:17:05.853678Z"
    },
    "papermill": {
     "duration": 0.02684,
     "end_time": "2024-05-25T14:17:05.857592",
     "exception": false,
     "start_time": "2024-05-25T14:17:05.830752",
     "status": "completed"
    },
    "tags": []
   },
   "outputs": [
    {
     "name": "stdout",
     "output_type": "stream",
     "text": [
      "Splitting 91 candies\n",
      "Splitting 1 candy\n"
     ]
    },
    {
     "data": {
      "text/plain": [
       "1"
      ]
     },
     "execution_count": 6,
     "metadata": {},
     "output_type": "execute_result"
    }
   ],
   "source": [
    "def to_smash(total_candies):\n",
    "    \"\"\"Return the number of leftover candies that must be smashed after distributing\n",
    "    the given number of candies evenly between 3 friends.\n",
    "    \n",
    "    >>> to_smash(91)\n",
    "    1\n",
    "    \"\"\"\n",
    "    if total_candies >1:\n",
    "        print(\"Splitting\", total_candies, \"candies\")\n",
    "    else:\n",
    "        print(\"Splitting\", total_candies, \"candy\")\n",
    "    return total_candies % 3\n",
    "\n",
    "to_smash(91)\n",
    "to_smash(1)"
   ]
  },
  {
   "cell_type": "markdown",
   "id": "8f4a55f4",
   "metadata": {
    "papermill": {
     "duration": 0.013174,
     "end_time": "2024-05-25T14:17:05.884485",
     "exception": false,
     "start_time": "2024-05-25T14:17:05.871311",
     "status": "completed"
    },
    "tags": []
   },
   "source": [
    "To get credit for completing this problem, and to see the official answer, run the code cell below."
   ]
  },
  {
   "cell_type": "code",
   "execution_count": 7,
   "id": "a9174039",
   "metadata": {
    "execution": {
     "iopub.execute_input": "2024-05-25T14:17:05.913948Z",
     "iopub.status.busy": "2024-05-25T14:17:05.913156Z",
     "iopub.status.idle": "2024-05-25T14:17:05.921369Z",
     "shell.execute_reply": "2024-05-25T14:17:05.920311Z"
    },
    "papermill": {
     "duration": 0.025451,
     "end_time": "2024-05-25T14:17:05.923629",
     "exception": false,
     "start_time": "2024-05-25T14:17:05.898178",
     "status": "completed"
    },
    "tags": []
   },
   "outputs": [
    {
     "data": {
      "application/javascript": [
       "parent.postMessage({\"jupyterEvent\": \"custom.exercise_interaction\", \"data\": {\"interactionType\": 3, \"questionType\": 4, \"questionId\": \"2_PluralizationProblem\", \"learnToolsVersion\": \"0.3.4\", \"valueTowardsCompletion\": 0.0, \"failureMessage\": \"\", \"exceptionClass\": \"\", \"trace\": \"\", \"outcomeType\": 4}}, \"*\")"
      ],
      "text/plain": [
       "<IPython.core.display.Javascript object>"
      ]
     },
     "metadata": {},
     "output_type": "display_data"
    },
    {
     "data": {
      "text/markdown": [
       "<span style=\"color:#33cc99\">Solution:</span> A straightforward (and totally fine) solution is to replace the original `print` call with:\n",
       "\n",
       "```python\n",
       "if total_candies == 1:\n",
       "    print(\"Splitting 1 candy\")\n",
       "else:\n",
       "    print(\"Splitting\", total_candies, \"candies\")\n",
       "```\n",
       "\n",
       "Here's a slightly more succinct solution using a conditional expression:\n",
       "\n",
       "```python\n",
       "print(\"Splitting\", total_candies, \"candy\" if total_candies == 1 else \"candies\")\n",
       "```"
      ],
      "text/plain": [
       "Solution: A straightforward (and totally fine) solution is to replace the original `print` call with:\n",
       "\n",
       "```python\n",
       "if total_candies == 1:\n",
       "    print(\"Splitting 1 candy\")\n",
       "else:\n",
       "    print(\"Splitting\", total_candies, \"candies\")\n",
       "```\n",
       "\n",
       "Here's a slightly more succinct solution using a conditional expression:\n",
       "\n",
       "```python\n",
       "print(\"Splitting\", total_candies, \"candy\" if total_candies == 1 else \"candies\")\n",
       "```"
      ]
     },
     "metadata": {},
     "output_type": "display_data"
    }
   ],
   "source": [
    "# Check your answer (Run this code cell to receive credit!)\n",
    "q2.solution()"
   ]
  },
  {
   "cell_type": "markdown",
   "id": "80e23b4a",
   "metadata": {
    "papermill": {
     "duration": 0.013639,
     "end_time": "2024-05-25T14:17:05.951402",
     "exception": false,
     "start_time": "2024-05-25T14:17:05.937763",
     "status": "completed"
    },
    "tags": []
   },
   "source": [
    "# 3. <span title=\"A bit spicy\" style=\"color: darkgreen \">🌶️</span>\n",
    "\n",
    "In the tutorial, we talked about deciding whether we're prepared for the weather. I said that I'm safe from today's weather if...\n",
    "- I have an umbrella...\n",
    "- or if the rain isn't too heavy and I have a hood...\n",
    "- otherwise, I'm still fine unless it's raining *and* it's a workday\n",
    "\n",
    "The function below uses our first attempt at turning this logic into a Python expression. I claimed that there was a bug in that code. Can you find it?\n",
    "\n",
    "To prove that `prepared_for_weather` is buggy, come up with a set of inputs where either:\n",
    "- the function returns `False` (but should have returned `True`), or\n",
    "- the function returned `True` (but should have returned `False`).\n",
    "\n",
    "To get credit for completing this question, your code should return a <font color='#33cc33'>Correct</font> result."
   ]
  },
  {
   "cell_type": "code",
   "execution_count": 8,
   "id": "627c1c30",
   "metadata": {
    "execution": {
     "iopub.execute_input": "2024-05-25T14:17:05.981785Z",
     "iopub.status.busy": "2024-05-25T14:17:05.980935Z",
     "iopub.status.idle": "2024-05-25T14:17:05.994798Z",
     "shell.execute_reply": "2024-05-25T14:17:05.993516Z"
    },
    "papermill": {
     "duration": 0.031939,
     "end_time": "2024-05-25T14:17:05.997527",
     "exception": false,
     "start_time": "2024-05-25T14:17:05.965588",
     "status": "completed"
    },
    "tags": []
   },
   "outputs": [
    {
     "name": "stdout",
     "output_type": "stream",
     "text": [
      "False\n"
     ]
    },
    {
     "data": {
      "application/javascript": [
       "parent.postMessage({\"jupyterEvent\": \"custom.exercise_interaction\", \"data\": {\"outcomeType\": 1, \"valueTowardsCompletion\": 0.2, \"interactionType\": 1, \"questionType\": 1, \"questionId\": \"3_WeatherDebug\", \"learnToolsVersion\": \"0.3.4\", \"failureMessage\": \"\", \"exceptionClass\": \"\", \"trace\": \"\"}}, \"*\")"
      ],
      "text/plain": [
       "<IPython.core.display.Javascript object>"
      ]
     },
     "metadata": {},
     "output_type": "display_data"
    },
    {
     "data": {
      "text/markdown": [
       "<span style=\"color:#33cc33\">Correct:</span> \n",
       "\n",
       "One example of a failing test case is:\n",
       "\n",
       "```python\n",
       "have_umbrella = False\n",
       "rain_level = 0.0\n",
       "have_hood = False\n",
       "is_workday = False\n",
       "```\n",
       "\n",
       "Clearly we're prepared for the weather in this case. It's not raining. Not only that, it's not a workday, so we don't even need to leave the house! But our function will return False on these inputs.\n",
       "\n",
       "The key problem is that Python implictly parenthesizes the last part as:\n",
       "\n",
       "```python\n",
       "(not (rain_level > 0)) and is_workday\n",
       "```\n",
       "\n",
       "Whereas what we were trying to express would look more like:\n",
       "\n",
       "```python\n",
       "not (rain_level > 0 and is_workday)\n",
       "```\n"
      ],
      "text/plain": [
       "Correct: \n",
       "\n",
       "One example of a failing test case is:\n",
       "\n",
       "```python\n",
       "have_umbrella = False\n",
       "rain_level = 0.0\n",
       "have_hood = False\n",
       "is_workday = False\n",
       "```\n",
       "\n",
       "Clearly we're prepared for the weather in this case. It's not raining. Not only that, it's not a workday, so we don't even need to leave the house! But our function will return False on these inputs.\n",
       "\n",
       "The key problem is that Python implictly parenthesizes the last part as:\n",
       "\n",
       "```python\n",
       "(not (rain_level > 0)) and is_workday\n",
       "```\n",
       "\n",
       "Whereas what we were trying to express would look more like:\n",
       "\n",
       "```python\n",
       "not (rain_level > 0 and is_workday)\n",
       "```"
      ]
     },
     "metadata": {},
     "output_type": "display_data"
    }
   ],
   "source": [
    "def prepared_for_weather(have_umbrella, rain_level, have_hood, is_workday):\n",
    "    # Don't change this code. Our goal is just to find the bug, not fix it!\n",
    "    return have_umbrella or rain_level < 5 and have_hood or not rain_level > 0 and is_workday\n",
    "\n",
    "# Change the values of these inputs so they represent a case where prepared_for_weather\n",
    "# returns the wrong answer.\n",
    "have_umbrella = False\n",
    "rain_level = 0.0\n",
    "have_hood = False\n",
    "is_workday = False\n",
    "\n",
    "# Check what the function returns given the current values of the variables above\n",
    "actual = prepared_for_weather(have_umbrella, rain_level, have_hood, is_workday)\n",
    "print(actual)\n",
    "\n",
    "# Check your answer\n",
    "q3.check()"
   ]
  },
  {
   "cell_type": "code",
   "execution_count": 9,
   "id": "15f456e3",
   "metadata": {
    "execution": {
     "iopub.execute_input": "2024-05-25T14:17:06.029042Z",
     "iopub.status.busy": "2024-05-25T14:17:06.028632Z",
     "iopub.status.idle": "2024-05-25T14:17:06.032899Z",
     "shell.execute_reply": "2024-05-25T14:17:06.031814Z"
    },
    "papermill": {
     "duration": 0.02283,
     "end_time": "2024-05-25T14:17:06.035205",
     "exception": false,
     "start_time": "2024-05-25T14:17:06.012375",
     "status": "completed"
    },
    "tags": []
   },
   "outputs": [],
   "source": [
    "#q3.hint()\n",
    "#q3.solution()"
   ]
  },
  {
   "cell_type": "markdown",
   "id": "292e8865",
   "metadata": {
    "papermill": {
     "duration": 0.014358,
     "end_time": "2024-05-25T14:17:06.064399",
     "exception": false,
     "start_time": "2024-05-25T14:17:06.050041",
     "status": "completed"
    },
    "tags": []
   },
   "source": [
    "# 4.\n",
    "\n",
    "The function `is_negative` below is implemented correctly - it returns True if the given number is negative and False otherwise.\n",
    "\n",
    "However, it's more verbose than it needs to be. We can actually reduce the number of lines of code in this function by *75%* while keeping the same behaviour. \n",
    "\n",
    "See if you can come up with an equivalent body that uses just **one line** of code, and put it in the function `concise_is_negative`. (HINT: you don't even need Python's ternary syntax)"
   ]
  },
  {
   "cell_type": "code",
   "execution_count": 10,
   "id": "74d69e32",
   "metadata": {
    "execution": {
     "iopub.execute_input": "2024-05-25T14:17:06.096766Z",
     "iopub.status.busy": "2024-05-25T14:17:06.096395Z",
     "iopub.status.idle": "2024-05-25T14:17:06.105904Z",
     "shell.execute_reply": "2024-05-25T14:17:06.104686Z"
    },
    "papermill": {
     "duration": 0.028758,
     "end_time": "2024-05-25T14:17:06.108399",
     "exception": false,
     "start_time": "2024-05-25T14:17:06.079641",
     "status": "completed"
    },
    "tags": []
   },
   "outputs": [
    {
     "data": {
      "application/javascript": [
       "parent.postMessage({\"jupyterEvent\": \"custom.exercise_interaction\", \"data\": {\"outcomeType\": 1, \"valueTowardsCompletion\": 0.2, \"interactionType\": 1, \"questionType\": 2, \"questionId\": \"4_ConciseIsNegative\", \"learnToolsVersion\": \"0.3.4\", \"failureMessage\": \"\", \"exceptionClass\": \"\", \"trace\": \"\"}}, \"*\")"
      ],
      "text/plain": [
       "<IPython.core.display.Javascript object>"
      ]
     },
     "metadata": {},
     "output_type": "display_data"
    },
    {
     "data": {
      "text/markdown": [
       "<span style=\"color:#33cc33\">Correct</span>"
      ],
      "text/plain": [
       "Correct"
      ]
     },
     "metadata": {},
     "output_type": "display_data"
    }
   ],
   "source": [
    "def is_negative(number):\n",
    "    if number < 0:\n",
    "        return True\n",
    "    else:\n",
    "        return False\n",
    "\n",
    "def concise_is_negative(number):\n",
    "    return number < 0\n",
    "\n",
    "# Check your answer\n",
    "q4.check()"
   ]
  },
  {
   "cell_type": "code",
   "execution_count": 11,
   "id": "069c4d22",
   "metadata": {
    "execution": {
     "iopub.execute_input": "2024-05-25T14:17:06.140449Z",
     "iopub.status.busy": "2024-05-25T14:17:06.140049Z",
     "iopub.status.idle": "2024-05-25T14:17:06.144310Z",
     "shell.execute_reply": "2024-05-25T14:17:06.143165Z"
    },
    "papermill": {
     "duration": 0.023164,
     "end_time": "2024-05-25T14:17:06.146637",
     "exception": false,
     "start_time": "2024-05-25T14:17:06.123473",
     "status": "completed"
    },
    "tags": []
   },
   "outputs": [],
   "source": [
    "#q4.hint()\n",
    "#q4.solution()"
   ]
  },
  {
   "cell_type": "markdown",
   "id": "615478a6",
   "metadata": {
    "papermill": {
     "duration": 0.014912,
     "end_time": "2024-05-25T14:17:06.177273",
     "exception": false,
     "start_time": "2024-05-25T14:17:06.162361",
     "status": "completed"
    },
    "tags": []
   },
   "source": [
    "# 5a.\n",
    "\n",
    "The boolean variables `ketchup`, `mustard` and `onion` represent whether a customer wants a particular topping on their hot dog. We want to implement a number of boolean functions that correspond to some yes-or-no questions about the customer's order. For example:"
   ]
  },
  {
   "cell_type": "code",
   "execution_count": 12,
   "id": "8fc62e7d",
   "metadata": {
    "execution": {
     "iopub.execute_input": "2024-05-25T14:17:06.210072Z",
     "iopub.status.busy": "2024-05-25T14:17:06.209312Z",
     "iopub.status.idle": "2024-05-25T14:17:06.214430Z",
     "shell.execute_reply": "2024-05-25T14:17:06.213228Z"
    },
    "papermill": {
     "duration": 0.024407,
     "end_time": "2024-05-25T14:17:06.216972",
     "exception": false,
     "start_time": "2024-05-25T14:17:06.192565",
     "status": "completed"
    },
    "tags": []
   },
   "outputs": [],
   "source": [
    "def onionless(ketchup, mustard, onion):\n",
    "    \"\"\"Return whether the customer doesn't want onions.\n",
    "    \"\"\"\n",
    "    return not onion"
   ]
  },
  {
   "cell_type": "code",
   "execution_count": 13,
   "id": "9e4d8fb8",
   "metadata": {
    "execution": {
     "iopub.execute_input": "2024-05-25T14:17:06.249951Z",
     "iopub.status.busy": "2024-05-25T14:17:06.249536Z",
     "iopub.status.idle": "2024-05-25T14:17:06.259088Z",
     "shell.execute_reply": "2024-05-25T14:17:06.258140Z"
    },
    "papermill": {
     "duration": 0.028753,
     "end_time": "2024-05-25T14:17:06.261180",
     "exception": false,
     "start_time": "2024-05-25T14:17:06.232427",
     "status": "completed"
    },
    "tags": []
   },
   "outputs": [
    {
     "data": {
      "application/javascript": [
       "parent.postMessage({\"jupyterEvent\": \"custom.exercise_interaction\", \"data\": {\"outcomeType\": 1, \"valueTowardsCompletion\": 0.2, \"interactionType\": 1, \"questionType\": 2, \"questionId\": \"5.1_AllToppings\", \"learnToolsVersion\": \"0.3.4\", \"failureMessage\": \"\", \"exceptionClass\": \"\", \"trace\": \"\"}}, \"*\")"
      ],
      "text/plain": [
       "<IPython.core.display.Javascript object>"
      ]
     },
     "metadata": {},
     "output_type": "display_data"
    },
    {
     "data": {
      "text/markdown": [
       "<span style=\"color:#33cc33\">Correct</span>"
      ],
      "text/plain": [
       "Correct"
      ]
     },
     "metadata": {},
     "output_type": "display_data"
    }
   ],
   "source": [
    "def wants_all_toppings(ketchup, mustard, onion):\n",
    "    \"\"\"Return whether the customer wants \"the works\" (all 3 toppings)\n",
    "    \"\"\"\n",
    "    works = bool(ketchup) * bool(mustard) *bool(onion)\n",
    "    return works\n",
    "\n",
    "# Check your answer\n",
    "q5.a.check()"
   ]
  },
  {
   "cell_type": "code",
   "execution_count": 14,
   "id": "eeba654d",
   "metadata": {
    "execution": {
     "iopub.execute_input": "2024-05-25T14:17:06.294484Z",
     "iopub.status.busy": "2024-05-25T14:17:06.293279Z",
     "iopub.status.idle": "2024-05-25T14:17:06.297762Z",
     "shell.execute_reply": "2024-05-25T14:17:06.296892Z"
    },
    "papermill": {
     "duration": 0.023658,
     "end_time": "2024-05-25T14:17:06.300158",
     "exception": false,
     "start_time": "2024-05-25T14:17:06.276500",
     "status": "completed"
    },
    "tags": []
   },
   "outputs": [],
   "source": [
    "#q5.a.hint()\n",
    "#q5.a.solution()"
   ]
  },
  {
   "cell_type": "markdown",
   "id": "d7507dbd",
   "metadata": {
    "papermill": {
     "duration": 0.016095,
     "end_time": "2024-05-25T14:17:06.331730",
     "exception": false,
     "start_time": "2024-05-25T14:17:06.315635",
     "status": "completed"
    },
    "tags": []
   },
   "source": [
    "# 5b.\n",
    "\n",
    "For the next function, fill in the body to match the English description in the docstring. "
   ]
  },
  {
   "cell_type": "code",
   "execution_count": 15,
   "id": "f556329c",
   "metadata": {
    "execution": {
     "iopub.execute_input": "2024-05-25T14:17:06.366026Z",
     "iopub.status.busy": "2024-05-25T14:17:06.364893Z",
     "iopub.status.idle": "2024-05-25T14:17:06.375953Z",
     "shell.execute_reply": "2024-05-25T14:17:06.374815Z"
    },
    "papermill": {
     "duration": 0.031013,
     "end_time": "2024-05-25T14:17:06.378331",
     "exception": false,
     "start_time": "2024-05-25T14:17:06.347318",
     "status": "completed"
    },
    "tags": []
   },
   "outputs": [
    {
     "data": {
      "application/javascript": [
       "parent.postMessage({\"jupyterEvent\": \"custom.exercise_interaction\", \"data\": {\"outcomeType\": 1, \"valueTowardsCompletion\": 0.2, \"interactionType\": 1, \"questionType\": 2, \"questionId\": \"5.2_PlainDog\", \"learnToolsVersion\": \"0.3.4\", \"failureMessage\": \"\", \"exceptionClass\": \"\", \"trace\": \"\"}}, \"*\")"
      ],
      "text/plain": [
       "<IPython.core.display.Javascript object>"
      ]
     },
     "metadata": {},
     "output_type": "display_data"
    },
    {
     "data": {
      "text/markdown": [
       "<span style=\"color:#33cc33\">Correct:</span> \n",
       "\n",
       "One solution looks like:\n",
       "```python\n",
       "return not ketchup and not mustard and not onion\n",
       "```\n",
       "\n",
       "We can also [\"factor out\" the nots](https://en.wikipedia.org/wiki/De_Morgan%27s_laws) to get:\n",
       "\n",
       "```python\n",
       "return not (ketchup or mustard or onion)\n",
       "```"
      ],
      "text/plain": [
       "Correct: \n",
       "\n",
       "One solution looks like:\n",
       "```python\n",
       "return not ketchup and not mustard and not onion\n",
       "```\n",
       "\n",
       "We can also [\"factor out\" the nots](https://en.wikipedia.org/wiki/De_Morgan%27s_laws) to get:\n",
       "\n",
       "```python\n",
       "return not (ketchup or mustard or onion)\n",
       "```"
      ]
     },
     "metadata": {},
     "output_type": "display_data"
    }
   ],
   "source": [
    "def wants_plain_hotdog(ketchup, mustard, onion):\n",
    "    \"\"\"Return whether the customer wants a plain hot dog with no toppings.\n",
    "    \"\"\"\n",
    "    return not ketchup and not mustard and not onion\n",
    "\n",
    "# Check your answer\n",
    "q5.b.check()"
   ]
  },
  {
   "cell_type": "code",
   "execution_count": 16,
   "id": "bc175fb6",
   "metadata": {
    "execution": {
     "iopub.execute_input": "2024-05-25T14:17:06.412482Z",
     "iopub.status.busy": "2024-05-25T14:17:06.412070Z",
     "iopub.status.idle": "2024-05-25T14:17:06.416932Z",
     "shell.execute_reply": "2024-05-25T14:17:06.415650Z"
    },
    "papermill": {
     "duration": 0.025041,
     "end_time": "2024-05-25T14:17:06.419585",
     "exception": false,
     "start_time": "2024-05-25T14:17:06.394544",
     "status": "completed"
    },
    "tags": []
   },
   "outputs": [],
   "source": [
    "#q5.b.hint()\n",
    "#q5.b.solution()"
   ]
  },
  {
   "cell_type": "markdown",
   "id": "80b24061",
   "metadata": {
    "papermill": {
     "duration": 0.01547,
     "end_time": "2024-05-25T14:17:06.451791",
     "exception": false,
     "start_time": "2024-05-25T14:17:06.436321",
     "status": "completed"
    },
    "tags": []
   },
   "source": [
    "# 5c.\n",
    "\n",
    "You know what to do: for the next function, fill in the body to match the English description in the docstring."
   ]
  },
  {
   "cell_type": "code",
   "execution_count": 17,
   "id": "dc8826b6",
   "metadata": {
    "execution": {
     "iopub.execute_input": "2024-05-25T14:17:06.549580Z",
     "iopub.status.busy": "2024-05-25T14:17:06.548779Z",
     "iopub.status.idle": "2024-05-25T14:17:06.558894Z",
     "shell.execute_reply": "2024-05-25T14:17:06.557633Z"
    },
    "papermill": {
     "duration": 0.0917,
     "end_time": "2024-05-25T14:17:06.561183",
     "exception": false,
     "start_time": "2024-05-25T14:17:06.469483",
     "status": "completed"
    },
    "tags": []
   },
   "outputs": [
    {
     "data": {
      "application/javascript": [
       "parent.postMessage({\"jupyterEvent\": \"custom.exercise_interaction\", \"data\": {\"outcomeType\": 1, \"valueTowardsCompletion\": 0.2, \"interactionType\": 1, \"questionType\": 2, \"questionId\": \"5.3_OneSauce\", \"learnToolsVersion\": \"0.3.4\", \"failureMessage\": \"\", \"exceptionClass\": \"\", \"trace\": \"\"}}, \"*\")"
      ],
      "text/plain": [
       "<IPython.core.display.Javascript object>"
      ]
     },
     "metadata": {},
     "output_type": "display_data"
    },
    {
     "data": {
      "text/markdown": [
       "<span style=\"color:#33cc33\">Correct</span>"
      ],
      "text/plain": [
       "Correct"
      ]
     },
     "metadata": {},
     "output_type": "display_data"
    }
   ],
   "source": [
    "def exactly_one_sauce(ketchup, mustard, onion):\n",
    "    \"\"\"Return whether the customer wants either ketchup or mustard, but not both.\n",
    "    (You may be familiar with this operation under the name \"exclusive or\")\n",
    "    \"\"\"\n",
    "    return (not ketchup and mustard) or (not mustard and ketchup)\n",
    "\n",
    "# Check your answer\n",
    "q5.c.check()"
   ]
  },
  {
   "cell_type": "code",
   "execution_count": 18,
   "id": "4ba415e7",
   "metadata": {
    "execution": {
     "iopub.execute_input": "2024-05-25T14:17:06.595606Z",
     "iopub.status.busy": "2024-05-25T14:17:06.594735Z",
     "iopub.status.idle": "2024-05-25T14:17:06.599718Z",
     "shell.execute_reply": "2024-05-25T14:17:06.598657Z"
    },
    "papermill": {
     "duration": 0.02474,
     "end_time": "2024-05-25T14:17:06.602060",
     "exception": false,
     "start_time": "2024-05-25T14:17:06.577320",
     "status": "completed"
    },
    "tags": []
   },
   "outputs": [],
   "source": [
    "#q5.c.hint()\n",
    "#q5.c.solution()"
   ]
  },
  {
   "cell_type": "markdown",
   "id": "ace2d566",
   "metadata": {
    "papermill": {
     "duration": 0.015687,
     "end_time": "2024-05-25T14:17:06.633971",
     "exception": false,
     "start_time": "2024-05-25T14:17:06.618284",
     "status": "completed"
    },
    "tags": []
   },
   "source": [
    "# 6. <span title=\"A bit spicy\" style=\"color: darkgreen \">🌶️</span>\n",
    "\n",
    "We’ve seen that calling `bool()` on an integer returns `False` if it’s equal to 0 and `True` otherwise. What happens if we call `int()` on a bool? Try it out in the notebook cell below.\n",
    "\n",
    "Can you take advantage of this to write a succinct function that corresponds to the English sentence \"does the customer want exactly one topping?\"?"
   ]
  },
  {
   "cell_type": "code",
   "execution_count": 19,
   "id": "e24857e4",
   "metadata": {
    "execution": {
     "iopub.execute_input": "2024-05-25T14:17:06.668332Z",
     "iopub.status.busy": "2024-05-25T14:17:06.667176Z",
     "iopub.status.idle": "2024-05-25T14:17:06.673072Z",
     "shell.execute_reply": "2024-05-25T14:17:06.671788Z"
    },
    "papermill": {
     "duration": 0.025517,
     "end_time": "2024-05-25T14:17:06.675390",
     "exception": false,
     "start_time": "2024-05-25T14:17:06.649873",
     "status": "completed"
    },
    "tags": []
   },
   "outputs": [
    {
     "name": "stdout",
     "output_type": "stream",
     "text": [
      "True\n"
     ]
    }
   ],
   "source": [
    "print(bool(-1))"
   ]
  },
  {
   "cell_type": "code",
   "execution_count": 20,
   "id": "efc8bd7b",
   "metadata": {
    "execution": {
     "iopub.execute_input": "2024-05-25T14:17:06.710826Z",
     "iopub.status.busy": "2024-05-25T14:17:06.709693Z",
     "iopub.status.idle": "2024-05-25T14:17:06.720157Z",
     "shell.execute_reply": "2024-05-25T14:17:06.718927Z"
    },
    "papermill": {
     "duration": 0.03085,
     "end_time": "2024-05-25T14:17:06.722374",
     "exception": false,
     "start_time": "2024-05-25T14:17:06.691524",
     "status": "completed"
    },
    "tags": []
   },
   "outputs": [
    {
     "data": {
      "application/javascript": [
       "parent.postMessage({\"jupyterEvent\": \"custom.exercise_interaction\", \"data\": {\"outcomeType\": 1, \"valueTowardsCompletion\": 0.2, \"interactionType\": 1, \"questionType\": 2, \"questionId\": \"6_OneTopping\", \"learnToolsVersion\": \"0.3.4\", \"failureMessage\": \"\", \"exceptionClass\": \"\", \"trace\": \"\"}}, \"*\")"
      ],
      "text/plain": [
       "<IPython.core.display.Javascript object>"
      ]
     },
     "metadata": {},
     "output_type": "display_data"
    },
    {
     "data": {
      "text/markdown": [
       "<span style=\"color:#33cc33\">Correct:</span> \n",
       "\n",
       "This condition would be pretty complicated to express using just `and`, `or` and `not`, but using boolean-to-integer conversion gives us this short solution:\n",
       "```python\n",
       "return (int(ketchup) + int(mustard) + int(onion)) == 1\n",
       "```\n",
       "\n",
       "Fun fact: we don't technically need to call `int` on the arguments. Just by doing addition with booleans, Python implicitly does the integer conversion. So we could also write...\n",
       "\n",
       "```python\n",
       "return (ketchup + mustard + onion) == 1\n",
       "```"
      ],
      "text/plain": [
       "Correct: \n",
       "\n",
       "This condition would be pretty complicated to express using just `and`, `or` and `not`, but using boolean-to-integer conversion gives us this short solution:\n",
       "```python\n",
       "return (int(ketchup) + int(mustard) + int(onion)) == 1\n",
       "```\n",
       "\n",
       "Fun fact: we don't technically need to call `int` on the arguments. Just by doing addition with booleans, Python implicitly does the integer conversion. So we could also write...\n",
       "\n",
       "```python\n",
       "return (ketchup + mustard + onion) == 1\n",
       "```"
      ]
     },
     "metadata": {},
     "output_type": "display_data"
    }
   ],
   "source": [
    "def exactly_one_topping(ketchup, mustard, onion):\n",
    "    \"\"\"Return whether the customer wants exactly one of the three available toppings\n",
    "    on their hot dog.\n",
    "    \"\"\"\n",
    "    return not bool((ketchup + mustard + onion) - 1)\n",
    "\n",
    "# Check your answer\n",
    "q6.check()"
   ]
  },
  {
   "cell_type": "code",
   "execution_count": 21,
   "id": "b1781222",
   "metadata": {
    "execution": {
     "iopub.execute_input": "2024-05-25T14:17:06.757197Z",
     "iopub.status.busy": "2024-05-25T14:17:06.756766Z",
     "iopub.status.idle": "2024-05-25T14:17:06.761375Z",
     "shell.execute_reply": "2024-05-25T14:17:06.760313Z"
    },
    "papermill": {
     "duration": 0.02463,
     "end_time": "2024-05-25T14:17:06.763573",
     "exception": false,
     "start_time": "2024-05-25T14:17:06.738943",
     "status": "completed"
    },
    "tags": []
   },
   "outputs": [],
   "source": [
    "#q6.hint()\n",
    "#q6.solution()"
   ]
  },
  {
   "cell_type": "markdown",
   "id": "8fbf4331",
   "metadata": {
    "papermill": {
     "duration": 0.01624,
     "end_time": "2024-05-25T14:17:06.796466",
     "exception": false,
     "start_time": "2024-05-25T14:17:06.780226",
     "status": "completed"
    },
    "tags": []
   },
   "source": [
    "# 7. <span title=\"A bit spicy\" style=\"color: darkgreen \">🌶️</span> (Optional)\n",
    "\n",
    "In this problem we'll be working with a simplified version of [blackjack](https://en.wikipedia.org/wiki/Blackjack) (aka twenty-one). In this version there is one player (who you'll control) and a dealer. Play proceeds as follows:\n",
    "\n",
    "- The player is dealt two face-up cards. The dealer is dealt one face-up card.\n",
    "- The player may ask to be dealt another card ('hit') as many times as they wish. If the sum of their cards exceeds 21, they lose the round immediately.\n",
    "- The dealer then deals additional cards to himself until either:\n",
    "    - the sum of the dealer's cards exceeds 21, in which case the player wins the round\n",
    "    - the sum of the dealer's cards is greater than or equal to 17. If the player's total is greater than the dealer's, the player wins. Otherwise, the dealer wins (even in case of a tie).\n",
    "    \n",
    "When calculating the sum of cards, Jack, Queen, and King count for 10. Aces can count as 1 or 11 (when referring to a player's \"total\" above, we mean the largest total that can be made without exceeding 21. So e.g. A+8 = 19, A+8+8 = 17)\n",
    "\n",
    "For this problem, you'll write a function representing the player's decision-making strategy in this game. We've provided a very unintelligent implementation below:"
   ]
  },
  {
   "cell_type": "code",
   "execution_count": 22,
   "id": "95405099",
   "metadata": {
    "execution": {
     "iopub.execute_input": "2024-05-25T14:17:06.832887Z",
     "iopub.status.busy": "2024-05-25T14:17:06.832059Z",
     "iopub.status.idle": "2024-05-25T14:17:06.838493Z",
     "shell.execute_reply": "2024-05-25T14:17:06.837232Z"
    },
    "papermill": {
     "duration": 0.028467,
     "end_time": "2024-05-25T14:17:06.841364",
     "exception": false,
     "start_time": "2024-05-25T14:17:06.812897",
     "status": "completed"
    },
    "tags": []
   },
   "outputs": [],
   "source": [
    "def should_hit(dealer_total, player_total, player_low_aces, player_high_aces):\n",
    "    \"\"\"Return True if the player should hit (request another card) given the current game\n",
    "    state, or False if the player should stay.\n",
    "    When calculating a hand's total value, we count aces as \"high\" (with value 11) if doing so\n",
    "    doesn't bring the total above 21, otherwise we count them as low (with value 1). \n",
    "    For example, if the player's hand is {A, A, A, 7}, we will count it as 11 + 1 + 1 + 7,\n",
    "    and therefore set player_total=20, player_low_aces=2, player_high_aces=1.\n",
    "    \"\"\"\n",
    "    return False"
   ]
  },
  {
   "cell_type": "markdown",
   "id": "418e63d6",
   "metadata": {
    "papermill": {
     "duration": 0.016367,
     "end_time": "2024-05-25T14:17:06.874768",
     "exception": false,
     "start_time": "2024-05-25T14:17:06.858401",
     "status": "completed"
    },
    "tags": []
   },
   "source": [
    "This very conservative agent *always* sticks with the hand of two cards that they're dealt.\n",
    "\n",
    "We'll be simulating games between your player agent and our own dealer agent by calling your function.\n",
    "\n",
    "Try running the function below to see an example of a simulated game:"
   ]
  },
  {
   "cell_type": "code",
   "execution_count": 23,
   "id": "491f6fef",
   "metadata": {
    "execution": {
     "iopub.execute_input": "2024-05-25T14:17:06.912114Z",
     "iopub.status.busy": "2024-05-25T14:17:06.911688Z",
     "iopub.status.idle": "2024-05-25T14:17:06.917753Z",
     "shell.execute_reply": "2024-05-25T14:17:06.916419Z"
    },
    "papermill": {
     "duration": 0.029109,
     "end_time": "2024-05-25T14:17:06.920951",
     "exception": false,
     "start_time": "2024-05-25T14:17:06.891842",
     "status": "completed"
    },
    "tags": []
   },
   "outputs": [
    {
     "name": "stdout",
     "output_type": "stream",
     "text": [
      "Player starts with K and 4 (total = 14)\n",
      "Dealer starts with 9\n",
      "\n",
      "__Player's turn__\n",
      "Player stays\n",
      "\n",
      "__Dealer's turn__\n",
      "Dealer hits and receives 10. (total = 19)\n",
      "Dealer stands.\n",
      "Dealer wins. 19 >= 14\n"
     ]
    }
   ],
   "source": [
    "q7.simulate_one_game()"
   ]
  },
  {
   "cell_type": "markdown",
   "id": "2db9bb45",
   "metadata": {
    "papermill": {
     "duration": 0.016395,
     "end_time": "2024-05-25T14:17:06.954156",
     "exception": false,
     "start_time": "2024-05-25T14:17:06.937761",
     "status": "completed"
    },
    "tags": []
   },
   "source": [
    "The real test of your agent's mettle is their average win rate over many games. Try calling the function below to simulate 50000 games of blackjack (it may take a couple seconds):"
   ]
  },
  {
   "cell_type": "code",
   "execution_count": 24,
   "id": "59860d0e",
   "metadata": {
    "execution": {
     "iopub.execute_input": "2024-05-25T14:17:06.990502Z",
     "iopub.status.busy": "2024-05-25T14:17:06.989286Z",
     "iopub.status.idle": "2024-05-25T14:17:09.163158Z",
     "shell.execute_reply": "2024-05-25T14:17:09.161776Z"
    },
    "papermill": {
     "duration": 2.1953,
     "end_time": "2024-05-25T14:17:09.165986",
     "exception": false,
     "start_time": "2024-05-25T14:17:06.970686",
     "status": "completed"
    },
    "tags": []
   },
   "outputs": [
    {
     "name": "stdout",
     "output_type": "stream",
     "text": [
      "Player won 19203 out of 50000 games (win rate = 38.4%)\n"
     ]
    }
   ],
   "source": [
    "q7.simulate(n_games=50000)"
   ]
  },
  {
   "cell_type": "markdown",
   "id": "cb3b4c57",
   "metadata": {
    "papermill": {
     "duration": 0.016614,
     "end_time": "2024-05-25T14:17:09.199418",
     "exception": false,
     "start_time": "2024-05-25T14:17:09.182804",
     "status": "completed"
    },
    "tags": []
   },
   "source": [
    "Our dumb agent that completely ignores the game state still manages to win shockingly often!\n",
    "\n",
    "Try adding some more smarts to the `should_hit` function and see how it affects the results."
   ]
  },
  {
   "cell_type": "code",
   "execution_count": 25,
   "id": "e5548090",
   "metadata": {
    "execution": {
     "iopub.execute_input": "2024-05-25T14:17:09.236163Z",
     "iopub.status.busy": "2024-05-25T14:17:09.235504Z",
     "iopub.status.idle": "2024-05-25T14:17:11.714705Z",
     "shell.execute_reply": "2024-05-25T14:17:11.713493Z"
    },
    "papermill": {
     "duration": 2.500849,
     "end_time": "2024-05-25T14:17:11.717339",
     "exception": false,
     "start_time": "2024-05-25T14:17:09.216490",
     "status": "completed"
    },
    "tags": []
   },
   "outputs": [
    {
     "name": "stdout",
     "output_type": "stream",
     "text": [
      "Player won 20771 out of 50000 games (win rate = 41.5%)\n"
     ]
    }
   ],
   "source": [
    "def should_hit(dealer_total, player_total, player_low_aces, player_high_aces):\n",
    "    \"\"\"Return True if the player should hit (request another card) given the current game\n",
    "    state, or False if the player should stay.\n",
    "    When calculating a hand's total value, we count aces as \"high\" (with value 11) if doing so\n",
    "    doesn't bring the total above 21, otherwise we count them as low (with value 1). \n",
    "    For example, if the player's hand is {A, A, A, 7}, we will count it as 11 + 1 + 1 + 7,\n",
    "    and therefore set player_total=20, player_low_aces=2, player_high_aces=1.\n",
    "    \"\"\"\n",
    "    return (player_total <= 13) * (dealer_total <=16) * (player_low_aces <= 5) * (player_high_aces <= 1)\n",
    "\n",
    "q7.simulate(n_games=50000)"
   ]
  },
  {
   "cell_type": "markdown",
   "id": "c57e1632",
   "metadata": {
    "papermill": {
     "duration": 0.016469,
     "end_time": "2024-05-25T14:17:11.750564",
     "exception": false,
     "start_time": "2024-05-25T14:17:11.734095",
     "status": "completed"
    },
    "tags": []
   },
   "source": [
    "# Keep Going\n",
    "\n",
    "Learn about **[lists and tuples](https://www.kaggle.com/colinmorris/lists)** to handle multiple items of data in a systematic way."
   ]
  },
  {
   "cell_type": "markdown",
   "id": "274e10d1",
   "metadata": {
    "papermill": {
     "duration": 0.01664,
     "end_time": "2024-05-25T14:17:11.784727",
     "exception": false,
     "start_time": "2024-05-25T14:17:11.768087",
     "status": "completed"
    },
    "tags": []
   },
   "source": [
    "---\n",
    "\n",
    "\n",
    "\n",
    "\n",
    "*Have questions or comments? Visit the [course discussion forum](https://www.kaggle.com/learn/python/discussion) to chat with other learners.*"
   ]
  }
 ],
 "metadata": {
  "kaggle": {
   "accelerator": "none",
   "dataSources": [],
   "isGpuEnabled": false,
   "isInternetEnabled": false,
   "language": "python",
   "sourceType": "notebook"
  },
  "kernelspec": {
   "display_name": "Python 3",
   "language": "python",
   "name": "python3"
  },
  "language_info": {
   "codemirror_mode": {
    "name": "ipython",
    "version": 3
   },
   "file_extension": ".py",
   "mimetype": "text/x-python",
   "name": "python",
   "nbconvert_exporter": "python",
   "pygments_lexer": "ipython3",
   "version": "3.10.13"
  },
  "learntools_metadata": {
   "lesson_index": 2,
   "type": "exercise"
  },
  "papermill": {
   "default_parameters": {},
   "duration": 11.054893,
   "end_time": "2024-05-25T14:17:12.323858",
   "environment_variables": {},
   "exception": null,
   "input_path": "__notebook__.ipynb",
   "output_path": "__notebook__.ipynb",
   "parameters": {},
   "start_time": "2024-05-25T14:17:01.268965",
   "version": "2.5.0"
  }
 },
 "nbformat": 4,
 "nbformat_minor": 5
}
