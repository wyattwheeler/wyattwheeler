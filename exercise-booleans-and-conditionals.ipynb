{
 "cells": [
  {
   "cell_type": "markdown",
   "id": "25ae41b9",
   "metadata": {
    "papermill": {
     "duration": 0.01371,
     "end_time": "2024-05-25T14:16:53.188496",
     "exception": false,
     "start_time": "2024-05-25T14:16:53.174786",
     "status": "completed"
    },
    "tags": []
   },
   "source": [
    "**This notebook is an exercise in the [Python](https://www.kaggle.com/learn/python) course.  You can reference the tutorial at [this link](https://www.kaggle.com/colinmorris/booleans-and-conditionals).**\n",
    "\n",
    "---\n"
   ]
  },
  {
   "cell_type": "markdown",
   "id": "8f5a8f5c",
   "metadata": {
    "papermill": {
     "duration": 0.012395,
     "end_time": "2024-05-25T14:16:53.213952",
     "exception": false,
     "start_time": "2024-05-25T14:16:53.201557",
     "status": "completed"
    },
    "tags": []
   },
   "source": [
    "In this exercise, you'll put to work what you have learned about booleans and conditionals.\n",
    "\n",
    "To get started, **run the setup code below** before writing your own code (and if you leave this notebook and come back later, don't forget to run the setup code again)."
   ]
  },
  {
   "cell_type": "code",
   "execution_count": 1,
   "id": "3c373644",
   "metadata": {
    "execution": {
     "iopub.execute_input": "2024-05-25T14:16:53.241539Z",
     "iopub.status.busy": "2024-05-25T14:16:53.241118Z",
     "iopub.status.idle": "2024-05-25T14:16:54.247336Z",
     "shell.execute_reply": "2024-05-25T14:16:54.245888Z"
    },
    "papermill": {
     "duration": 1.022923,
     "end_time": "2024-05-25T14:16:54.250015",
     "exception": false,
     "start_time": "2024-05-25T14:16:53.227092",
     "status": "completed"
    },
    "tags": []
   },
   "outputs": [
    {
     "name": "stdout",
     "output_type": "stream",
     "text": [
      "Setup complete.\n"
     ]
    }
   ],
   "source": [
    "from learntools.core import binder; binder.bind(globals())\n",
    "from learntools.python.ex3 import *\n",
    "print('Setup complete.')"
   ]
  },
  {
   "cell_type": "markdown",
   "id": "8ce62104",
   "metadata": {
    "papermill": {
     "duration": 0.013266,
     "end_time": "2024-05-25T14:16:54.276208",
     "exception": false,
     "start_time": "2024-05-25T14:16:54.262942",
     "status": "completed"
    },
    "tags": []
   },
   "source": [
    "# 1.\n",
    "\n",
    "Many programming languages have [`sign`](https://en.wikipedia.org/wiki/Sign_function) available as a built-in function. Python doesn't, but we can define our own!\n",
    "\n",
    "In the cell below, define a function called `sign` which takes a numerical argument and returns -1 if it's negative, 1 if it's positive, and 0 if it's 0."
   ]
  },
  {
   "cell_type": "code",
   "execution_count": 2,
   "id": "1d748b8c",
   "metadata": {
    "execution": {
     "iopub.execute_input": "2024-05-25T14:16:54.304019Z",
     "iopub.status.busy": "2024-05-25T14:16:54.303153Z",
     "iopub.status.idle": "2024-05-25T14:16:54.315542Z",
     "shell.execute_reply": "2024-05-25T14:16:54.314349Z"
    },
    "papermill": {
     "duration": 0.029104,
     "end_time": "2024-05-25T14:16:54.318170",
     "exception": false,
     "start_time": "2024-05-25T14:16:54.289066",
     "status": "completed"
    },
    "tags": []
   },
   "outputs": [
    {
     "data": {
      "application/javascript": [
       "parent.postMessage({\"jupyterEvent\": \"custom.exercise_interaction\", \"data\": {\"outcomeType\": 1, \"valueTowardsCompletion\": 0.2, \"interactionType\": 1, \"questionType\": 2, \"questionId\": \"1_SignFunctionProblem\", \"learnToolsVersion\": \"0.3.4\", \"failureMessage\": \"\", \"exceptionClass\": \"\", \"trace\": \"\"}}, \"*\")"
      ],
      "text/plain": [
       "<IPython.core.display.Javascript object>"
      ]
     },
     "metadata": {},
     "output_type": "display_data"
    },
    {
     "data": {
      "text/markdown": [
       "<span style=\"color:#33cc33\">Correct</span>"
      ],
      "text/plain": [
       "Correct"
      ]
     },
     "metadata": {},
     "output_type": "display_data"
    }
   ],
   "source": [
    "# Your code goes here. Define a function called 'sign'\n",
    "def sign(num):\n",
    "    if num > 0:\n",
    "        value = 1\n",
    "    elif num < 0:\n",
    "        value = -1\n",
    "    else:\n",
    "        value = 0\n",
    "    return value\n",
    "\n",
    "# Check your answer\n",
    "q1.check()"
   ]
  },
  {
   "cell_type": "code",
   "execution_count": 3,
   "id": "494ea443",
   "metadata": {
    "execution": {
     "iopub.execute_input": "2024-05-25T14:16:54.346254Z",
     "iopub.status.busy": "2024-05-25T14:16:54.345878Z",
     "iopub.status.idle": "2024-05-25T14:16:54.350670Z",
     "shell.execute_reply": "2024-05-25T14:16:54.349467Z"
    },
    "papermill": {
     "duration": 0.021901,
     "end_time": "2024-05-25T14:16:54.353176",
     "exception": false,
     "start_time": "2024-05-25T14:16:54.331275",
     "status": "completed"
    },
    "tags": []
   },
   "outputs": [],
   "source": [
    "#q1.solution()"
   ]
  },
  {
   "cell_type": "markdown",
   "id": "dc0209fb",
   "metadata": {
    "papermill": {
     "duration": 0.012635,
     "end_time": "2024-05-25T14:16:54.379325",
     "exception": false,
     "start_time": "2024-05-25T14:16:54.366690",
     "status": "completed"
    },
    "tags": []
   },
   "source": [
    "# 2.\n",
    "\n",
    "We've decided to add \"logging\" to our `to_smash` function from the previous exercise."
   ]
  },
  {
   "cell_type": "code",
   "execution_count": 4,
   "id": "50180af1",
   "metadata": {
    "execution": {
     "iopub.execute_input": "2024-05-25T14:16:54.407105Z",
     "iopub.status.busy": "2024-05-25T14:16:54.406724Z",
     "iopub.status.idle": "2024-05-25T14:16:54.415625Z",
     "shell.execute_reply": "2024-05-25T14:16:54.414417Z"
    },
    "papermill": {
     "duration": 0.026151,
     "end_time": "2024-05-25T14:16:54.418647",
     "exception": false,
     "start_time": "2024-05-25T14:16:54.392496",
     "status": "completed"
    },
    "tags": []
   },
   "outputs": [
    {
     "name": "stdout",
     "output_type": "stream",
     "text": [
      "Splitting 91 candies\n"
     ]
    },
    {
     "data": {
      "text/plain": [
       "1"
      ]
     },
     "execution_count": 4,
     "metadata": {},
     "output_type": "execute_result"
    }
   ],
   "source": [
    "def to_smash(total_candies):\n",
    "    \"\"\"Return the number of leftover candies that must be smashed after distributing\n",
    "    the given number of candies evenly between 3 friends.\n",
    "    \n",
    "    >>> to_smash(91)\n",
    "    1\n",
    "    \"\"\"\n",
    "    print(\"Splitting\", total_candies, \"candies\")\n",
    "    return total_candies % 3\n",
    "\n",
    "to_smash(91)"
   ]
  },
  {
   "cell_type": "markdown",
   "id": "6e9bc602",
   "metadata": {
    "papermill": {
     "duration": 0.013079,
     "end_time": "2024-05-25T14:16:54.445053",
     "exception": false,
     "start_time": "2024-05-25T14:16:54.431974",
     "status": "completed"
    },
    "tags": []
   },
   "source": [
    "What happens if we call it with `total_candies = 1`?"
   ]
  },
  {
   "cell_type": "code",
   "execution_count": 5,
   "id": "c678e505",
   "metadata": {
    "execution": {
     "iopub.execute_input": "2024-05-25T14:16:54.473600Z",
     "iopub.status.busy": "2024-05-25T14:16:54.473207Z",
     "iopub.status.idle": "2024-05-25T14:16:54.481227Z",
     "shell.execute_reply": "2024-05-25T14:16:54.479837Z"
    },
    "papermill": {
     "duration": 0.025554,
     "end_time": "2024-05-25T14:16:54.484147",
     "exception": false,
     "start_time": "2024-05-25T14:16:54.458593",
     "status": "completed"
    },
    "tags": []
   },
   "outputs": [
    {
     "name": "stdout",
     "output_type": "stream",
     "text": [
      "Splitting 1 candies\n"
     ]
    },
    {
     "data": {
      "text/plain": [
       "1"
      ]
     },
     "execution_count": 5,
     "metadata": {},
     "output_type": "execute_result"
    }
   ],
   "source": [
    "to_smash(1)"
   ]
  },
  {
   "cell_type": "markdown",
   "id": "7a4f7c0c",
   "metadata": {
    "papermill": {
     "duration": 0.013299,
     "end_time": "2024-05-25T14:16:54.510994",
     "exception": false,
     "start_time": "2024-05-25T14:16:54.497695",
     "status": "completed"
    },
    "tags": []
   },
   "source": [
    "That isn't great grammar!\n",
    "\n",
    "Modify the definition in the cell below to correct the grammar of our print statement. (If there's only one candy, we should use the singular \"candy\" instead of the plural \"candies\")"
   ]
  },
  {
   "cell_type": "code",
   "execution_count": 6,
   "id": "04c17054",
   "metadata": {
    "execution": {
     "iopub.execute_input": "2024-05-25T14:16:54.540036Z",
     "iopub.status.busy": "2024-05-25T14:16:54.539605Z",
     "iopub.status.idle": "2024-05-25T14:16:54.549752Z",
     "shell.execute_reply": "2024-05-25T14:16:54.548622Z"
    },
    "papermill": {
     "duration": 0.02759,
     "end_time": "2024-05-25T14:16:54.552252",
     "exception": false,
     "start_time": "2024-05-25T14:16:54.524662",
     "status": "completed"
    },
    "tags": []
   },
   "outputs": [
    {
     "name": "stdout",
     "output_type": "stream",
     "text": [
      "Splitting 91 candies\n",
      "Splitting 1 candy\n"
     ]
    },
    {
     "data": {
      "text/plain": [
       "1"
      ]
     },
     "execution_count": 6,
     "metadata": {},
     "output_type": "execute_result"
    }
   ],
   "source": [
    "def to_smash(total_candies):\n",
    "    \"\"\"Return the number of leftover candies that must be smashed after distributing\n",
    "    the given number of candies evenly between 3 friends.\n",
    "    \n",
    "    >>> to_smash(91)\n",
    "    1\n",
    "    \"\"\"\n",
    "    if total_candies >1:\n",
    "        print(\"Splitting\", total_candies, \"candies\")\n",
    "    else:\n",
    "        print(\"Splitting\", total_candies, \"candy\")\n",
    "    return total_candies % 3\n",
    "\n",
    "to_smash(91)\n",
    "to_smash(1)"
   ]
  },
  {
   "cell_type": "markdown",
   "id": "730c8ef8",
   "metadata": {
    "papermill": {
     "duration": 0.014141,
     "end_time": "2024-05-25T14:16:54.580252",
     "exception": false,
     "start_time": "2024-05-25T14:16:54.566111",
     "status": "completed"
    },
    "tags": []
   },
   "source": [
    "To get credit for completing this problem, and to see the official answer, run the code cell below."
   ]
  },
  {
   "cell_type": "code",
   "execution_count": 7,
   "id": "ee68e30d",
   "metadata": {
    "execution": {
     "iopub.execute_input": "2024-05-25T14:16:54.610980Z",
     "iopub.status.busy": "2024-05-25T14:16:54.610573Z",
     "iopub.status.idle": "2024-05-25T14:16:54.620263Z",
     "shell.execute_reply": "2024-05-25T14:16:54.619154Z"
    },
    "papermill": {
     "duration": 0.027262,
     "end_time": "2024-05-25T14:16:54.622846",
     "exception": false,
     "start_time": "2024-05-25T14:16:54.595584",
     "status": "completed"
    },
    "tags": []
   },
   "outputs": [
    {
     "data": {
      "application/javascript": [
       "parent.postMessage({\"jupyterEvent\": \"custom.exercise_interaction\", \"data\": {\"interactionType\": 3, \"questionType\": 4, \"questionId\": \"2_PluralizationProblem\", \"learnToolsVersion\": \"0.3.4\", \"valueTowardsCompletion\": 0.0, \"failureMessage\": \"\", \"exceptionClass\": \"\", \"trace\": \"\", \"outcomeType\": 4}}, \"*\")"
      ],
      "text/plain": [
       "<IPython.core.display.Javascript object>"
      ]
     },
     "metadata": {},
     "output_type": "display_data"
    },
    {
     "data": {
      "text/markdown": [
       "<span style=\"color:#33cc99\">Solution:</span> A straightforward (and totally fine) solution is to replace the original `print` call with:\n",
       "\n",
       "```python\n",
       "if total_candies == 1:\n",
       "    print(\"Splitting 1 candy\")\n",
       "else:\n",
       "    print(\"Splitting\", total_candies, \"candies\")\n",
       "```\n",
       "\n",
       "Here's a slightly more succinct solution using a conditional expression:\n",
       "\n",
       "```python\n",
       "print(\"Splitting\", total_candies, \"candy\" if total_candies == 1 else \"candies\")\n",
       "```"
      ],
      "text/plain": [
       "Solution: A straightforward (and totally fine) solution is to replace the original `print` call with:\n",
       "\n",
       "```python\n",
       "if total_candies == 1:\n",
       "    print(\"Splitting 1 candy\")\n",
       "else:\n",
       "    print(\"Splitting\", total_candies, \"candies\")\n",
       "```\n",
       "\n",
       "Here's a slightly more succinct solution using a conditional expression:\n",
       "\n",
       "```python\n",
       "print(\"Splitting\", total_candies, \"candy\" if total_candies == 1 else \"candies\")\n",
       "```"
      ]
     },
     "metadata": {},
     "output_type": "display_data"
    }
   ],
   "source": [
    "# Check your answer (Run this code cell to receive credit!)\n",
    "q2.solution()"
   ]
  },
  {
   "cell_type": "markdown",
   "id": "8d5c4127",
   "metadata": {
    "papermill": {
     "duration": 0.013962,
     "end_time": "2024-05-25T14:16:54.651203",
     "exception": false,
     "start_time": "2024-05-25T14:16:54.637241",
     "status": "completed"
    },
    "tags": []
   },
   "source": [
    "# 3. <span title=\"A bit spicy\" style=\"color: darkgreen \">🌶️</span>\n",
    "\n",
    "In the tutorial, we talked about deciding whether we're prepared for the weather. I said that I'm safe from today's weather if...\n",
    "- I have an umbrella...\n",
    "- or if the rain isn't too heavy and I have a hood...\n",
    "- otherwise, I'm still fine unless it's raining *and* it's a workday\n",
    "\n",
    "The function below uses our first attempt at turning this logic into a Python expression. I claimed that there was a bug in that code. Can you find it?\n",
    "\n",
    "To prove that `prepared_for_weather` is buggy, come up with a set of inputs where either:\n",
    "- the function returns `False` (but should have returned `True`), or\n",
    "- the function returned `True` (but should have returned `False`).\n",
    "\n",
    "To get credit for completing this question, your code should return a <font color='#33cc33'>Correct</font> result."
   ]
  },
  {
   "cell_type": "code",
   "execution_count": 8,
   "id": "a3f216be",
   "metadata": {
    "execution": {
     "iopub.execute_input": "2024-05-25T14:16:54.681613Z",
     "iopub.status.busy": "2024-05-25T14:16:54.681174Z",
     "iopub.status.idle": "2024-05-25T14:16:54.693126Z",
     "shell.execute_reply": "2024-05-25T14:16:54.692058Z"
    },
    "papermill": {
     "duration": 0.029965,
     "end_time": "2024-05-25T14:16:54.695600",
     "exception": false,
     "start_time": "2024-05-25T14:16:54.665635",
     "status": "completed"
    },
    "tags": []
   },
   "outputs": [
    {
     "name": "stdout",
     "output_type": "stream",
     "text": [
      "False\n"
     ]
    },
    {
     "data": {
      "application/javascript": [
       "parent.postMessage({\"jupyterEvent\": \"custom.exercise_interaction\", \"data\": {\"outcomeType\": 1, \"valueTowardsCompletion\": 0.2, \"interactionType\": 1, \"questionType\": 1, \"questionId\": \"3_WeatherDebug\", \"learnToolsVersion\": \"0.3.4\", \"failureMessage\": \"\", \"exceptionClass\": \"\", \"trace\": \"\"}}, \"*\")"
      ],
      "text/plain": [
       "<IPython.core.display.Javascript object>"
      ]
     },
     "metadata": {},
     "output_type": "display_data"
    },
    {
     "data": {
      "text/markdown": [
       "<span style=\"color:#33cc33\">Correct:</span> \n",
       "\n",
       "One example of a failing test case is:\n",
       "\n",
       "```python\n",
       "have_umbrella = False\n",
       "rain_level = 0.0\n",
       "have_hood = False\n",
       "is_workday = False\n",
       "```\n",
       "\n",
       "Clearly we're prepared for the weather in this case. It's not raining. Not only that, it's not a workday, so we don't even need to leave the house! But our function will return False on these inputs.\n",
       "\n",
       "The key problem is that Python implictly parenthesizes the last part as:\n",
       "\n",
       "```python\n",
       "(not (rain_level > 0)) and is_workday\n",
       "```\n",
       "\n",
       "Whereas what we were trying to express would look more like:\n",
       "\n",
       "```python\n",
       "not (rain_level > 0 and is_workday)\n",
       "```\n"
      ],
      "text/plain": [
       "Correct: \n",
       "\n",
       "One example of a failing test case is:\n",
       "\n",
       "```python\n",
       "have_umbrella = False\n",
       "rain_level = 0.0\n",
       "have_hood = False\n",
       "is_workday = False\n",
       "```\n",
       "\n",
       "Clearly we're prepared for the weather in this case. It's not raining. Not only that, it's not a workday, so we don't even need to leave the house! But our function will return False on these inputs.\n",
       "\n",
       "The key problem is that Python implictly parenthesizes the last part as:\n",
       "\n",
       "```python\n",
       "(not (rain_level > 0)) and is_workday\n",
       "```\n",
       "\n",
       "Whereas what we were trying to express would look more like:\n",
       "\n",
       "```python\n",
       "not (rain_level > 0 and is_workday)\n",
       "```"
      ]
     },
     "metadata": {},
     "output_type": "display_data"
    }
   ],
   "source": [
    "def prepared_for_weather(have_umbrella, rain_level, have_hood, is_workday):\n",
    "    # Don't change this code. Our goal is just to find the bug, not fix it!\n",
    "    return have_umbrella or rain_level < 5 and have_hood or not rain_level > 0 and is_workday\n",
    "\n",
    "# Change the values of these inputs so they represent a case where prepared_for_weather\n",
    "# returns the wrong answer.\n",
    "have_umbrella = False\n",
    "rain_level = 0.0\n",
    "have_hood = False\n",
    "is_workday = False\n",
    "\n",
    "# Check what the function returns given the current values of the variables above\n",
    "actual = prepared_for_weather(have_umbrella, rain_level, have_hood, is_workday)\n",
    "print(actual)\n",
    "\n",
    "# Check your answer\n",
    "q3.check()"
   ]
  },
  {
   "cell_type": "code",
   "execution_count": 9,
   "id": "49ad4aa6",
   "metadata": {
    "execution": {
     "iopub.execute_input": "2024-05-25T14:16:54.728602Z",
     "iopub.status.busy": "2024-05-25T14:16:54.727440Z",
     "iopub.status.idle": "2024-05-25T14:16:54.732460Z",
     "shell.execute_reply": "2024-05-25T14:16:54.731255Z"
    },
    "papermill": {
     "duration": 0.023484,
     "end_time": "2024-05-25T14:16:54.734940",
     "exception": false,
     "start_time": "2024-05-25T14:16:54.711456",
     "status": "completed"
    },
    "tags": []
   },
   "outputs": [],
   "source": [
    "#q3.hint()\n",
    "#q3.solution()"
   ]
  },
  {
   "cell_type": "markdown",
   "id": "ec11e012",
   "metadata": {
    "papermill": {
     "duration": 0.014225,
     "end_time": "2024-05-25T14:16:54.764053",
     "exception": false,
     "start_time": "2024-05-25T14:16:54.749828",
     "status": "completed"
    },
    "tags": []
   },
   "source": [
    "# 4.\n",
    "\n",
    "The function `is_negative` below is implemented correctly - it returns True if the given number is negative and False otherwise.\n",
    "\n",
    "However, it's more verbose than it needs to be. We can actually reduce the number of lines of code in this function by *75%* while keeping the same behaviour. \n",
    "\n",
    "See if you can come up with an equivalent body that uses just **one line** of code, and put it in the function `concise_is_negative`. (HINT: you don't even need Python's ternary syntax)"
   ]
  },
  {
   "cell_type": "code",
   "execution_count": 10,
   "id": "45f56a5c",
   "metadata": {
    "execution": {
     "iopub.execute_input": "2024-05-25T14:16:54.795306Z",
     "iopub.status.busy": "2024-05-25T14:16:54.794505Z",
     "iopub.status.idle": "2024-05-25T14:16:54.804847Z",
     "shell.execute_reply": "2024-05-25T14:16:54.803747Z"
    },
    "papermill": {
     "duration": 0.029011,
     "end_time": "2024-05-25T14:16:54.807766",
     "exception": false,
     "start_time": "2024-05-25T14:16:54.778755",
     "status": "completed"
    },
    "tags": []
   },
   "outputs": [
    {
     "data": {
      "application/javascript": [
       "parent.postMessage({\"jupyterEvent\": \"custom.exercise_interaction\", \"data\": {\"outcomeType\": 1, \"valueTowardsCompletion\": 0.2, \"interactionType\": 1, \"questionType\": 2, \"questionId\": \"4_ConciseIsNegative\", \"learnToolsVersion\": \"0.3.4\", \"failureMessage\": \"\", \"exceptionClass\": \"\", \"trace\": \"\"}}, \"*\")"
      ],
      "text/plain": [
       "<IPython.core.display.Javascript object>"
      ]
     },
     "metadata": {},
     "output_type": "display_data"
    },
    {
     "data": {
      "text/markdown": [
       "<span style=\"color:#33cc33\">Correct</span>"
      ],
      "text/plain": [
       "Correct"
      ]
     },
     "metadata": {},
     "output_type": "display_data"
    }
   ],
   "source": [
    "def is_negative(number):\n",
    "    if number < 0:\n",
    "        return True\n",
    "    else:\n",
    "        return False\n",
    "\n",
    "def concise_is_negative(number):\n",
    "    return number < 0\n",
    "\n",
    "# Check your answer\n",
    "q4.check()"
   ]
  },
  {
   "cell_type": "code",
   "execution_count": 11,
   "id": "01665f14",
   "metadata": {
    "execution": {
     "iopub.execute_input": "2024-05-25T14:16:54.839504Z",
     "iopub.status.busy": "2024-05-25T14:16:54.839100Z",
     "iopub.status.idle": "2024-05-25T14:16:54.843702Z",
     "shell.execute_reply": "2024-05-25T14:16:54.842547Z"
    },
    "papermill": {
     "duration": 0.023534,
     "end_time": "2024-05-25T14:16:54.846360",
     "exception": false,
     "start_time": "2024-05-25T14:16:54.822826",
     "status": "completed"
    },
    "tags": []
   },
   "outputs": [],
   "source": [
    "#q4.hint()\n",
    "#q4.solution()"
   ]
  },
  {
   "cell_type": "markdown",
   "id": "6eeeabe5",
   "metadata": {
    "papermill": {
     "duration": 0.014729,
     "end_time": "2024-05-25T14:16:54.876563",
     "exception": false,
     "start_time": "2024-05-25T14:16:54.861834",
     "status": "completed"
    },
    "tags": []
   },
   "source": [
    "# 5a.\n",
    "\n",
    "The boolean variables `ketchup`, `mustard` and `onion` represent whether a customer wants a particular topping on their hot dog. We want to implement a number of boolean functions that correspond to some yes-or-no questions about the customer's order. For example:"
   ]
  },
  {
   "cell_type": "code",
   "execution_count": 12,
   "id": "1038469b",
   "metadata": {
    "execution": {
     "iopub.execute_input": "2024-05-25T14:16:54.909083Z",
     "iopub.status.busy": "2024-05-25T14:16:54.907970Z",
     "iopub.status.idle": "2024-05-25T14:16:54.913281Z",
     "shell.execute_reply": "2024-05-25T14:16:54.912249Z"
    },
    "papermill": {
     "duration": 0.023855,
     "end_time": "2024-05-25T14:16:54.915588",
     "exception": false,
     "start_time": "2024-05-25T14:16:54.891733",
     "status": "completed"
    },
    "tags": []
   },
   "outputs": [],
   "source": [
    "def onionless(ketchup, mustard, onion):\n",
    "    \"\"\"Return whether the customer doesn't want onions.\n",
    "    \"\"\"\n",
    "    return not onion"
   ]
  },
  {
   "cell_type": "code",
   "execution_count": 13,
   "id": "0532178b",
   "metadata": {
    "execution": {
     "iopub.execute_input": "2024-05-25T14:16:54.948254Z",
     "iopub.status.busy": "2024-05-25T14:16:54.947292Z",
     "iopub.status.idle": "2024-05-25T14:16:54.957899Z",
     "shell.execute_reply": "2024-05-25T14:16:54.956699Z"
    },
    "papermill": {
     "duration": 0.02973,
     "end_time": "2024-05-25T14:16:54.960323",
     "exception": false,
     "start_time": "2024-05-25T14:16:54.930593",
     "status": "completed"
    },
    "tags": []
   },
   "outputs": [
    {
     "data": {
      "application/javascript": [
       "parent.postMessage({\"jupyterEvent\": \"custom.exercise_interaction\", \"data\": {\"outcomeType\": 1, \"valueTowardsCompletion\": 0.2, \"interactionType\": 1, \"questionType\": 2, \"questionId\": \"5.1_AllToppings\", \"learnToolsVersion\": \"0.3.4\", \"failureMessage\": \"\", \"exceptionClass\": \"\", \"trace\": \"\"}}, \"*\")"
      ],
      "text/plain": [
       "<IPython.core.display.Javascript object>"
      ]
     },
     "metadata": {},
     "output_type": "display_data"
    },
    {
     "data": {
      "text/markdown": [
       "<span style=\"color:#33cc33\">Correct</span>"
      ],
      "text/plain": [
       "Correct"
      ]
     },
     "metadata": {},
     "output_type": "display_data"
    }
   ],
   "source": [
    "def wants_all_toppings(ketchup, mustard, onion):\n",
    "    \"\"\"Return whether the customer wants \"the works\" (all 3 toppings)\n",
    "    \"\"\"\n",
    "    works = bool(ketchup) * bool(mustard) *bool(onion)\n",
    "    return works\n",
    "\n",
    "# Check your answer\n",
    "q5.a.check()"
   ]
  },
  {
   "cell_type": "code",
   "execution_count": 14,
   "id": "1dd2fd78",
   "metadata": {
    "execution": {
     "iopub.execute_input": "2024-05-25T14:16:54.993541Z",
     "iopub.status.busy": "2024-05-25T14:16:54.992566Z",
     "iopub.status.idle": "2024-05-25T14:16:54.997550Z",
     "shell.execute_reply": "2024-05-25T14:16:54.996443Z"
    },
    "papermill": {
     "duration": 0.02407,
     "end_time": "2024-05-25T14:16:54.999935",
     "exception": false,
     "start_time": "2024-05-25T14:16:54.975865",
     "status": "completed"
    },
    "tags": []
   },
   "outputs": [],
   "source": [
    "#q5.a.hint()\n",
    "#q5.a.solution()"
   ]
  },
  {
   "cell_type": "markdown",
   "id": "624aa171",
   "metadata": {
    "papermill": {
     "duration": 0.015116,
     "end_time": "2024-05-25T14:16:55.030412",
     "exception": false,
     "start_time": "2024-05-25T14:16:55.015296",
     "status": "completed"
    },
    "tags": []
   },
   "source": [
    "# 5b.\n",
    "\n",
    "For the next function, fill in the body to match the English description in the docstring. "
   ]
  },
  {
   "cell_type": "code",
   "execution_count": 15,
   "id": "bc2abc52",
   "metadata": {
    "execution": {
     "iopub.execute_input": "2024-05-25T14:16:55.062723Z",
     "iopub.status.busy": "2024-05-25T14:16:55.062321Z",
     "iopub.status.idle": "2024-05-25T14:16:55.072168Z",
     "shell.execute_reply": "2024-05-25T14:16:55.071135Z"
    },
    "papermill": {
     "duration": 0.029043,
     "end_time": "2024-05-25T14:16:55.074824",
     "exception": false,
     "start_time": "2024-05-25T14:16:55.045781",
     "status": "completed"
    },
    "tags": []
   },
   "outputs": [
    {
     "data": {
      "application/javascript": [
       "parent.postMessage({\"jupyterEvent\": \"custom.exercise_interaction\", \"data\": {\"outcomeType\": 1, \"valueTowardsCompletion\": 0.2, \"interactionType\": 1, \"questionType\": 2, \"questionId\": \"5.2_PlainDog\", \"learnToolsVersion\": \"0.3.4\", \"failureMessage\": \"\", \"exceptionClass\": \"\", \"trace\": \"\"}}, \"*\")"
      ],
      "text/plain": [
       "<IPython.core.display.Javascript object>"
      ]
     },
     "metadata": {},
     "output_type": "display_data"
    },
    {
     "data": {
      "text/markdown": [
       "<span style=\"color:#33cc33\">Correct:</span> \n",
       "\n",
       "One solution looks like:\n",
       "```python\n",
       "return not ketchup and not mustard and not onion\n",
       "```\n",
       "\n",
       "We can also [\"factor out\" the nots](https://en.wikipedia.org/wiki/De_Morgan%27s_laws) to get:\n",
       "\n",
       "```python\n",
       "return not (ketchup or mustard or onion)\n",
       "```"
      ],
      "text/plain": [
       "Correct: \n",
       "\n",
       "One solution looks like:\n",
       "```python\n",
       "return not ketchup and not mustard and not onion\n",
       "```\n",
       "\n",
       "We can also [\"factor out\" the nots](https://en.wikipedia.org/wiki/De_Morgan%27s_laws) to get:\n",
       "\n",
       "```python\n",
       "return not (ketchup or mustard or onion)\n",
       "```"
      ]
     },
     "metadata": {},
     "output_type": "display_data"
    }
   ],
   "source": [
    "def wants_plain_hotdog(ketchup, mustard, onion):\n",
    "    \"\"\"Return whether the customer wants a plain hot dog with no toppings.\n",
    "    \"\"\"\n",
    "    return not ketchup and not mustard and not onion\n",
    "\n",
    "# Check your answer\n",
    "q5.b.check()"
   ]
  },
  {
   "cell_type": "code",
   "execution_count": 16,
   "id": "faa5b55b",
   "metadata": {
    "execution": {
     "iopub.execute_input": "2024-05-25T14:16:55.109298Z",
     "iopub.status.busy": "2024-05-25T14:16:55.108513Z",
     "iopub.status.idle": "2024-05-25T14:16:55.113154Z",
     "shell.execute_reply": "2024-05-25T14:16:55.112063Z"
    },
    "papermill": {
     "duration": 0.024709,
     "end_time": "2024-05-25T14:16:55.115473",
     "exception": false,
     "start_time": "2024-05-25T14:16:55.090764",
     "status": "completed"
    },
    "tags": []
   },
   "outputs": [],
   "source": [
    "#q5.b.hint()\n",
    "#q5.b.solution()"
   ]
  },
  {
   "cell_type": "markdown",
   "id": "294b773f",
   "metadata": {
    "papermill": {
     "duration": 0.015334,
     "end_time": "2024-05-25T14:16:55.146474",
     "exception": false,
     "start_time": "2024-05-25T14:16:55.131140",
     "status": "completed"
    },
    "tags": []
   },
   "source": [
    "# 5c.\n",
    "\n",
    "You know what to do: for the next function, fill in the body to match the English description in the docstring."
   ]
  },
  {
   "cell_type": "code",
   "execution_count": 17,
   "id": "fbe26478",
   "metadata": {
    "execution": {
     "iopub.execute_input": "2024-05-25T14:16:55.241568Z",
     "iopub.status.busy": "2024-05-25T14:16:55.240758Z",
     "iopub.status.idle": "2024-05-25T14:16:55.250989Z",
     "shell.execute_reply": "2024-05-25T14:16:55.249858Z"
    },
    "papermill": {
     "duration": 0.091267,
     "end_time": "2024-05-25T14:16:55.253336",
     "exception": false,
     "start_time": "2024-05-25T14:16:55.162069",
     "status": "completed"
    },
    "tags": []
   },
   "outputs": [
    {
     "data": {
      "application/javascript": [
       "parent.postMessage({\"jupyterEvent\": \"custom.exercise_interaction\", \"data\": {\"outcomeType\": 1, \"valueTowardsCompletion\": 0.2, \"interactionType\": 1, \"questionType\": 2, \"questionId\": \"5.3_OneSauce\", \"learnToolsVersion\": \"0.3.4\", \"failureMessage\": \"\", \"exceptionClass\": \"\", \"trace\": \"\"}}, \"*\")"
      ],
      "text/plain": [
       "<IPython.core.display.Javascript object>"
      ]
     },
     "metadata": {},
     "output_type": "display_data"
    },
    {
     "data": {
      "text/markdown": [
       "<span style=\"color:#33cc33\">Correct</span>"
      ],
      "text/plain": [
       "Correct"
      ]
     },
     "metadata": {},
     "output_type": "display_data"
    }
   ],
   "source": [
    "def exactly_one_sauce(ketchup, mustard, onion):\n",
    "    \"\"\"Return whether the customer wants either ketchup or mustard, but not both.\n",
    "    (You may be familiar with this operation under the name \"exclusive or\")\n",
    "    \"\"\"\n",
    "    return (not ketchup and mustard) or (not mustard and ketchup)\n",
    "\n",
    "# Check your answer\n",
    "q5.c.check()"
   ]
  },
  {
   "cell_type": "code",
   "execution_count": 18,
   "id": "6dac98e1",
   "metadata": {
    "execution": {
     "iopub.execute_input": "2024-05-25T14:16:55.287982Z",
     "iopub.status.busy": "2024-05-25T14:16:55.286953Z",
     "iopub.status.idle": "2024-05-25T14:16:55.291892Z",
     "shell.execute_reply": "2024-05-25T14:16:55.290874Z"
    },
    "papermill": {
     "duration": 0.024493,
     "end_time": "2024-05-25T14:16:55.294063",
     "exception": false,
     "start_time": "2024-05-25T14:16:55.269570",
     "status": "completed"
    },
    "tags": []
   },
   "outputs": [],
   "source": [
    "#q5.c.hint()\n",
    "#q5.c.solution()"
   ]
  },
  {
   "cell_type": "markdown",
   "id": "8b578981",
   "metadata": {
    "papermill": {
     "duration": 0.015967,
     "end_time": "2024-05-25T14:16:55.326127",
     "exception": false,
     "start_time": "2024-05-25T14:16:55.310160",
     "status": "completed"
    },
    "tags": []
   },
   "source": [
    "# 6. <span title=\"A bit spicy\" style=\"color: darkgreen \">🌶️</span>\n",
    "\n",
    "We’ve seen that calling `bool()` on an integer returns `False` if it’s equal to 0 and `True` otherwise. What happens if we call `int()` on a bool? Try it out in the notebook cell below.\n",
    "\n",
    "Can you take advantage of this to write a succinct function that corresponds to the English sentence \"does the customer want exactly one topping?\"?"
   ]
  },
  {
   "cell_type": "code",
   "execution_count": 19,
   "id": "19e36e16",
   "metadata": {
    "execution": {
     "iopub.execute_input": "2024-05-25T14:16:55.360460Z",
     "iopub.status.busy": "2024-05-25T14:16:55.360033Z",
     "iopub.status.idle": "2024-05-25T14:16:55.365906Z",
     "shell.execute_reply": "2024-05-25T14:16:55.364797Z"
    },
    "papermill": {
     "duration": 0.025795,
     "end_time": "2024-05-25T14:16:55.368302",
     "exception": false,
     "start_time": "2024-05-25T14:16:55.342507",
     "status": "completed"
    },
    "tags": []
   },
   "outputs": [
    {
     "name": "stdout",
     "output_type": "stream",
     "text": [
      "True\n"
     ]
    }
   ],
   "source": [
    "print(bool(-1))"
   ]
  },
  {
   "cell_type": "code",
   "execution_count": 20,
   "id": "d81fa92c",
   "metadata": {
    "execution": {
     "iopub.execute_input": "2024-05-25T14:16:55.403458Z",
     "iopub.status.busy": "2024-05-25T14:16:55.402282Z",
     "iopub.status.idle": "2024-05-25T14:16:55.412959Z",
     "shell.execute_reply": "2024-05-25T14:16:55.411892Z"
    },
    "papermill": {
     "duration": 0.030485,
     "end_time": "2024-05-25T14:16:55.415384",
     "exception": false,
     "start_time": "2024-05-25T14:16:55.384899",
     "status": "completed"
    },
    "tags": []
   },
   "outputs": [
    {
     "data": {
      "application/javascript": [
       "parent.postMessage({\"jupyterEvent\": \"custom.exercise_interaction\", \"data\": {\"outcomeType\": 1, \"valueTowardsCompletion\": 0.2, \"interactionType\": 1, \"questionType\": 2, \"questionId\": \"6_OneTopping\", \"learnToolsVersion\": \"0.3.4\", \"failureMessage\": \"\", \"exceptionClass\": \"\", \"trace\": \"\"}}, \"*\")"
      ],
      "text/plain": [
       "<IPython.core.display.Javascript object>"
      ]
     },
     "metadata": {},
     "output_type": "display_data"
    },
    {
     "data": {
      "text/markdown": [
       "<span style=\"color:#33cc33\">Correct:</span> \n",
       "\n",
       "This condition would be pretty complicated to express using just `and`, `or` and `not`, but using boolean-to-integer conversion gives us this short solution:\n",
       "```python\n",
       "return (int(ketchup) + int(mustard) + int(onion)) == 1\n",
       "```\n",
       "\n",
       "Fun fact: we don't technically need to call `int` on the arguments. Just by doing addition with booleans, Python implicitly does the integer conversion. So we could also write...\n",
       "\n",
       "```python\n",
       "return (ketchup + mustard + onion) == 1\n",
       "```"
      ],
      "text/plain": [
       "Correct: \n",
       "\n",
       "This condition would be pretty complicated to express using just `and`, `or` and `not`, but using boolean-to-integer conversion gives us this short solution:\n",
       "```python\n",
       "return (int(ketchup) + int(mustard) + int(onion)) == 1\n",
       "```\n",
       "\n",
       "Fun fact: we don't technically need to call `int` on the arguments. Just by doing addition with booleans, Python implicitly does the integer conversion. So we could also write...\n",
       "\n",
       "```python\n",
       "return (ketchup + mustard + onion) == 1\n",
       "```"
      ]
     },
     "metadata": {},
     "output_type": "display_data"
    }
   ],
   "source": [
    "def exactly_one_topping(ketchup, mustard, onion):\n",
    "    \"\"\"Return whether the customer wants exactly one of the three available toppings\n",
    "    on their hot dog.\n",
    "    \"\"\"\n",
    "    return not bool((ketchup + mustard + onion) - 1)\n",
    "\n",
    "# Check your answer\n",
    "q6.check()"
   ]
  },
  {
   "cell_type": "code",
   "execution_count": 21,
   "id": "d331ce4f",
   "metadata": {
    "execution": {
     "iopub.execute_input": "2024-05-25T14:16:55.450438Z",
     "iopub.status.busy": "2024-05-25T14:16:55.450018Z",
     "iopub.status.idle": "2024-05-25T14:16:55.454728Z",
     "shell.execute_reply": "2024-05-25T14:16:55.453643Z"
    },
    "papermill": {
     "duration": 0.025034,
     "end_time": "2024-05-25T14:16:55.457033",
     "exception": false,
     "start_time": "2024-05-25T14:16:55.431999",
     "status": "completed"
    },
    "tags": []
   },
   "outputs": [],
   "source": [
    "#q6.hint()\n",
    "#q6.solution()"
   ]
  },
  {
   "cell_type": "markdown",
   "id": "e116d43f",
   "metadata": {
    "papermill": {
     "duration": 0.016868,
     "end_time": "2024-05-25T14:16:55.490599",
     "exception": false,
     "start_time": "2024-05-25T14:16:55.473731",
     "status": "completed"
    },
    "tags": []
   },
   "source": [
    "# 7. <span title=\"A bit spicy\" style=\"color: darkgreen \">🌶️</span> (Optional)\n",
    "\n",
    "In this problem we'll be working with a simplified version of [blackjack](https://en.wikipedia.org/wiki/Blackjack) (aka twenty-one). In this version there is one player (who you'll control) and a dealer. Play proceeds as follows:\n",
    "\n",
    "- The player is dealt two face-up cards. The dealer is dealt one face-up card.\n",
    "- The player may ask to be dealt another card ('hit') as many times as they wish. If the sum of their cards exceeds 21, they lose the round immediately.\n",
    "- The dealer then deals additional cards to himself until either:\n",
    "    - the sum of the dealer's cards exceeds 21, in which case the player wins the round\n",
    "    - the sum of the dealer's cards is greater than or equal to 17. If the player's total is greater than the dealer's, the player wins. Otherwise, the dealer wins (even in case of a tie).\n",
    "    \n",
    "When calculating the sum of cards, Jack, Queen, and King count for 10. Aces can count as 1 or 11 (when referring to a player's \"total\" above, we mean the largest total that can be made without exceeding 21. So e.g. A+8 = 19, A+8+8 = 17)\n",
    "\n",
    "For this problem, you'll write a function representing the player's decision-making strategy in this game. We've provided a very unintelligent implementation below:"
   ]
  },
  {
   "cell_type": "code",
   "execution_count": 22,
   "id": "ada8c231",
   "metadata": {
    "execution": {
     "iopub.execute_input": "2024-05-25T14:16:55.525794Z",
     "iopub.status.busy": "2024-05-25T14:16:55.525384Z",
     "iopub.status.idle": "2024-05-25T14:16:55.531549Z",
     "shell.execute_reply": "2024-05-25T14:16:55.530417Z"
    },
    "papermill": {
     "duration": 0.026699,
     "end_time": "2024-05-25T14:16:55.534043",
     "exception": false,
     "start_time": "2024-05-25T14:16:55.507344",
     "status": "completed"
    },
    "tags": []
   },
   "outputs": [],
   "source": [
    "def should_hit(dealer_total, player_total, player_low_aces, player_high_aces):\n",
    "    \"\"\"Return True if the player should hit (request another card) given the current game\n",
    "    state, or False if the player should stay.\n",
    "    When calculating a hand's total value, we count aces as \"high\" (with value 11) if doing so\n",
    "    doesn't bring the total above 21, otherwise we count them as low (with value 1). \n",
    "    For example, if the player's hand is {A, A, A, 7}, we will count it as 11 + 1 + 1 + 7,\n",
    "    and therefore set player_total=20, player_low_aces=2, player_high_aces=1.\n",
    "    \"\"\"\n",
    "    return False"
   ]
  },
  {
   "cell_type": "markdown",
   "id": "374e00fc",
   "metadata": {
    "papermill": {
     "duration": 0.016283,
     "end_time": "2024-05-25T14:16:55.566929",
     "exception": false,
     "start_time": "2024-05-25T14:16:55.550646",
     "status": "completed"
    },
    "tags": []
   },
   "source": [
    "This very conservative agent *always* sticks with the hand of two cards that they're dealt.\n",
    "\n",
    "We'll be simulating games between your player agent and our own dealer agent by calling your function.\n",
    "\n",
    "Try running the function below to see an example of a simulated game:"
   ]
  },
  {
   "cell_type": "code",
   "execution_count": 23,
   "id": "0946f1e4",
   "metadata": {
    "execution": {
     "iopub.execute_input": "2024-05-25T14:16:55.604235Z",
     "iopub.status.busy": "2024-05-25T14:16:55.603825Z",
     "iopub.status.idle": "2024-05-25T14:16:55.610256Z",
     "shell.execute_reply": "2024-05-25T14:16:55.608988Z"
    },
    "papermill": {
     "duration": 0.028483,
     "end_time": "2024-05-25T14:16:55.612849",
     "exception": false,
     "start_time": "2024-05-25T14:16:55.584366",
     "status": "completed"
    },
    "tags": []
   },
   "outputs": [
    {
     "name": "stdout",
     "output_type": "stream",
     "text": [
      "Player starts with 5 and 5 (total = 10)\n",
      "Dealer starts with J\n",
      "\n",
      "__Player's turn__\n",
      "Player stays\n",
      "\n",
      "__Dealer's turn__\n",
      "Dealer hits and receives 2. (total = 12)\n",
      "Dealer hits and receives K. (total = 22)\n",
      "Dealer busts! Player wins.\n"
     ]
    }
   ],
   "source": [
    "q7.simulate_one_game()"
   ]
  },
  {
   "cell_type": "markdown",
   "id": "dc1556ad",
   "metadata": {
    "papermill": {
     "duration": 0.017035,
     "end_time": "2024-05-25T14:16:55.646545",
     "exception": false,
     "start_time": "2024-05-25T14:16:55.629510",
     "status": "completed"
    },
    "tags": []
   },
   "source": [
    "The real test of your agent's mettle is their average win rate over many games. Try calling the function below to simulate 50000 games of blackjack (it may take a couple seconds):"
   ]
  },
  {
   "cell_type": "code",
   "execution_count": 24,
   "id": "33212ef8",
   "metadata": {
    "execution": {
     "iopub.execute_input": "2024-05-25T14:16:55.681944Z",
     "iopub.status.busy": "2024-05-25T14:16:55.681497Z",
     "iopub.status.idle": "2024-05-25T14:16:57.837646Z",
     "shell.execute_reply": "2024-05-25T14:16:57.836235Z"
    },
    "papermill": {
     "duration": 2.176896,
     "end_time": "2024-05-25T14:16:57.840273",
     "exception": false,
     "start_time": "2024-05-25T14:16:55.663377",
     "status": "completed"
    },
    "tags": []
   },
   "outputs": [
    {
     "name": "stdout",
     "output_type": "stream",
     "text": [
      "Player won 19019 out of 50000 games (win rate = 38.0%)\n"
     ]
    }
   ],
   "source": [
    "q7.simulate(n_games=50000)"
   ]
  },
  {
   "cell_type": "markdown",
   "id": "7d821304",
   "metadata": {
    "papermill": {
     "duration": 0.016573,
     "end_time": "2024-05-25T14:16:57.873694",
     "exception": false,
     "start_time": "2024-05-25T14:16:57.857121",
     "status": "completed"
    },
    "tags": []
   },
   "source": [
    "Our dumb agent that completely ignores the game state still manages to win shockingly often!\n",
    "\n",
    "Try adding some more smarts to the `should_hit` function and see how it affects the results."
   ]
  },
  {
   "cell_type": "code",
   "execution_count": 25,
   "id": "9f0c90cf",
   "metadata": {
    "execution": {
     "iopub.execute_input": "2024-05-25T14:16:57.910039Z",
     "iopub.status.busy": "2024-05-25T14:16:57.909612Z",
     "iopub.status.idle": "2024-05-25T14:17:00.450846Z",
     "shell.execute_reply": "2024-05-25T14:17:00.449295Z"
    },
    "papermill": {
     "duration": 2.563844,
     "end_time": "2024-05-25T14:17:00.454415",
     "exception": false,
     "start_time": "2024-05-25T14:16:57.890571",
     "status": "completed"
    },
    "tags": []
   },
   "outputs": [
    {
     "name": "stdout",
     "output_type": "stream",
     "text": [
      "Player won 20948 out of 50000 games (win rate = 41.9%)\n"
     ]
    }
   ],
   "source": [
    "def should_hit(dealer_total, player_total, player_low_aces, player_high_aces):\n",
    "    \"\"\"Return True if the player should hit (request another card) given the current game\n",
    "    state, or False if the player should stay.\n",
    "    When calculating a hand's total value, we count aces as \"high\" (with value 11) if doing so\n",
    "    doesn't bring the total above 21, otherwise we count them as low (with value 1). \n",
    "    For example, if the player's hand is {A, A, A, 7}, we will count it as 11 + 1 + 1 + 7,\n",
    "    and therefore set player_total=20, player_low_aces=2, player_high_aces=1.\n",
    "    \"\"\"\n",
    "    return (player_total <= 13) * (dealer_total <=16) * (player_low_aces <= 5) * (player_high_aces <= 1)\n",
    "\n",
    "q7.simulate(n_games=50000)"
   ]
  },
  {
   "cell_type": "markdown",
   "id": "b118719f",
   "metadata": {
    "papermill": {
     "duration": 0.020531,
     "end_time": "2024-05-25T14:17:00.499695",
     "exception": false,
     "start_time": "2024-05-25T14:17:00.479164",
     "status": "completed"
    },
    "tags": []
   },
   "source": [
    "# Keep Going\n",
    "\n",
    "Learn about **[lists and tuples](https://www.kaggle.com/colinmorris/lists)** to handle multiple items of data in a systematic way."
   ]
  },
  {
   "cell_type": "markdown",
   "id": "9ba7805c",
   "metadata": {
    "papermill": {
     "duration": 0.017019,
     "end_time": "2024-05-25T14:17:00.534192",
     "exception": false,
     "start_time": "2024-05-25T14:17:00.517173",
     "status": "completed"
    },
    "tags": []
   },
   "source": [
    "---\n",
    "\n",
    "\n",
    "\n",
    "\n",
    "*Have questions or comments? Visit the [course discussion forum](https://www.kaggle.com/learn/python/discussion) to chat with other learners.*"
   ]
  }
 ],
 "metadata": {
  "kaggle": {
   "accelerator": "none",
   "dataSources": [],
   "isGpuEnabled": false,
   "isInternetEnabled": false,
   "language": "python",
   "sourceType": "notebook"
  },
  "kernelspec": {
   "display_name": "Python 3",
   "language": "python",
   "name": "python3"
  },
  "language_info": {
   "codemirror_mode": {
    "name": "ipython",
    "version": 3
   },
   "file_extension": ".py",
   "mimetype": "text/x-python",
   "name": "python",
   "nbconvert_exporter": "python",
   "pygments_lexer": "ipython3",
   "version": "3.10.13"
  },
  "learntools_metadata": {
   "lesson_index": 2,
   "type": "exercise"
  },
  "papermill": {
   "default_parameters": {},
   "duration": 11.002464,
   "end_time": "2024-05-25T14:17:01.074503",
   "environment_variables": {},
   "exception": null,
   "input_path": "__notebook__.ipynb",
   "output_path": "__notebook__.ipynb",
   "parameters": {},
   "start_time": "2024-05-25T14:16:50.072039",
   "version": "2.5.0"
  }
 },
 "nbformat": 4,
 "nbformat_minor": 5
}
